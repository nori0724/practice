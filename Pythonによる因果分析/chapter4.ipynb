{
 "cells": [
  {
   "cell_type": "code",
   "execution_count": 54,
   "metadata": {},
   "outputs": [],
   "source": [
    "# 乱数シードを固定\n",
    "import random\n",
    "import numpy as np\n",
    "import pandas as pd\n",
    "import matplotlib.pyplot as plt\n",
    "\n",
    "random.seed(1234)\n",
    "np.random.seed(1234)"
   ]
  },
  {
   "cell_type": "code",
   "execution_count": 67,
   "metadata": {},
   "outputs": [],
   "source": [
    "from numpy.random import randint\n",
    "from scipy.special import expit\n",
    "from numpy.random import randn"
   ]
  },
  {
   "cell_type": "code",
   "execution_count": 64,
   "metadata": {},
   "outputs": [],
   "source": [
    "# データ数\n",
    "num_data = 200\n",
    "\n",
    "# 年齢\n",
    "x_1 = randint(15, 75, num_data) # 15から75までの一様乱数\n",
    "\n",
    "# 性別\n",
    "x_2 = randint(0, 2, num_data) # 0か1の乱数"
   ]
  },
  {
   "cell_type": "code",
   "execution_count": 80,
   "metadata": {},
   "outputs": [
    {
     "data": {
      "text/plain": [
       "array([63, 54, 31, 49, 23, 61, 67, 55, 66, 60, 17, 35, 54, 38, 25, 74, 27,\n",
       "       73, 15, 57, 32, 64, 31, 63, 31, 32, 27, 46, 57, 64, 30, 40, 35, 56,\n",
       "       40, 20, 65, 61, 30, 35, 28, 61, 74, 32, 15, 18, 52, 33, 45, 41, 62,\n",
       "       18, 66, 52, 19, 52, 73, 58, 51, 31, 20, 69, 70, 41, 34, 62, 27, 27,\n",
       "       48, 36, 19, 52, 56, 64, 61, 70, 53, 50, 34, 62, 59, 57, 61, 63, 74,\n",
       "       59, 41, 63, 17, 50, 61, 48, 53, 48, 18, 61, 73, 52, 21, 72, 49, 69,\n",
       "       21, 56, 41, 25, 38, 39, 24, 27, 16, 44, 66, 69, 21, 33, 65, 60, 51,\n",
       "       73, 40, 66, 61, 58, 28, 55, 70, 36, 45, 29, 48, 73, 50, 32, 66, 63,\n",
       "       45, 45, 17, 60, 15, 46, 34, 20, 49, 41, 30, 21, 74, 53, 53, 35, 32,\n",
       "       31, 38, 35, 57, 41, 42, 48, 71, 45, 36, 61, 40, 59, 28, 60, 69, 26,\n",
       "       65, 45, 59, 39, 25, 27, 38, 56, 25, 38, 70, 34, 30, 45, 21, 52, 69,\n",
       "       26, 62, 30, 71, 21, 68, 24, 48, 56, 65, 25, 16, 61])"
      ]
     },
     "execution_count": 80,
     "metadata": {},
     "output_type": "execute_result"
    }
   ],
   "source": [
    "x_1"
   ]
  },
  {
   "cell_type": "code",
   "execution_count": 81,
   "metadata": {},
   "outputs": [
    {
     "data": {
      "text/plain": [
       "array([1, 1, 1, 0, 0, 1, 1, 0, 0, 1, 1, 1, 1, 1, 1, 1, 0, 1, 1, 0, 0, 0,\n",
       "       1, 1, 1, 1, 1, 0, 0, 1, 1, 1, 1, 0, 1, 1, 1, 0, 0, 1, 0, 0, 0, 0,\n",
       "       1, 1, 0, 1, 1, 0, 0, 0, 0, 0, 1, 1, 1, 1, 0, 1, 0, 1, 1, 1, 1, 0,\n",
       "       1, 0, 1, 0, 0, 1, 1, 1, 0, 1, 1, 0, 1, 1, 1, 0, 0, 1, 1, 1, 0, 1,\n",
       "       0, 0, 1, 1, 1, 1, 0, 0, 0, 1, 0, 1, 0, 1, 1, 1, 1, 1, 0, 1, 1, 0,\n",
       "       0, 0, 0, 0, 1, 1, 1, 1, 1, 1, 0, 1, 1, 1, 1, 0, 0, 1, 1, 0, 1, 0,\n",
       "       0, 0, 1, 1, 1, 1, 0, 0, 0, 0, 0, 1, 0, 1, 0, 1, 1, 0, 1, 1, 0, 0,\n",
       "       1, 0, 1, 1, 1, 1, 1, 1, 1, 1, 1, 1, 1, 1, 0, 1, 0, 1, 1, 1, 0, 0,\n",
       "       1, 0, 0, 0, 0, 1, 0, 1, 0, 1, 0, 0, 0, 0, 1, 0, 1, 0, 1, 1, 1, 0,\n",
       "       0, 0])"
      ]
     },
     "execution_count": 81,
     "metadata": {},
     "output_type": "execute_result"
    }
   ],
   "source": [
    "x_2"
   ]
  },
  {
   "cell_type": "markdown",
   "metadata": {},
   "source": [
    "- CMを見たかどうかを決める\n",
    "- 年齢(x_1)が高いほど、性別(x_2)が女性であるほどCMを見る確率が高いと仮定\n",
    "- sigmoid関数を使用"
   ]
  },
  {
   "cell_type": "code",
   "execution_count": 82,
   "metadata": {},
   "outputs": [],
   "source": [
    "# ノイズの発生\n",
    "e_z = randn(num_data) # 平均0、標準偏差1の正規分布\n",
    "\n",
    "# シグモイド関数に入れる部分\n",
    "z_base = x_1 + (1 - x_2) * 10 - 40 + 5*e_z\n",
    "\n",
    "# シグモイド関数を計算(CMを見る確率)\n",
    "z_prob = expit(0.1 * z_base)"
   ]
  },
  {
   "cell_type": "code",
   "execution_count": 46,
   "metadata": {},
   "outputs": [],
   "source": [
    "# テレビCMを見たかどうかの変数(0は見ていない、1は見た)\n",
    "Z = np.array([])\n",
    "\n",
    "for i in range(num_data):\n",
    "    Z_i = np.random.choice(2, size=1, p = [1 - z_prob[i], z_prob[i]])[0] # CMを見る確率をweightとして0　or　1を選ぶ\n",
    "    Z = np.append(Z, Z_i)"
   ]
  },
  {
   "cell_type": "markdown",
   "metadata": {},
   "source": [
    "### 購入量Y^i  \n",
    "- Y^i =-x_1 + 30*x_2 + 10*Z + 80 + noise\n",
    "- 年齢(x_1)が大きいほど購入量は減少    \n",
    "- 男性(x_2 ==1)の方が購入量は多い  \n",
    "- テレビCMを見る(Z==1)と購入量は増える   \n",
    "- -- \n",
    "- ここで、テレビCMによる購入への効果は+10が正解となる"
   ]
  },
  {
   "cell_type": "code",
   "execution_count": 88,
   "metadata": {},
   "outputs": [],
   "source": [
    "# ノイズの発生\n",
    "e_y = randn(num_data)\n",
    "\n",
    "Y = -x_1 + 30*x_2 + 10*Z + 80 + 10*e_y"
   ]
  },
  {
   "cell_type": "code",
   "execution_count": 89,
   "metadata": {},
   "outputs": [],
   "source": [
    "df = pd.DataFrame({\n",
    "    \"年齢\" : x_1,\n",
    "    \"性別\" : x_2, \n",
    "    \"CMを見た\" : Z,\n",
    "    \"購入量\" : Y\n",
    "})"
   ]
  },
  {
   "cell_type": "code",
   "execution_count": 90,
   "metadata": {},
   "outputs": [
    {
     "data": {
      "text/html": [
       "<div>\n",
       "<style scoped>\n",
       "    .dataframe tbody tr th:only-of-type {\n",
       "        vertical-align: middle;\n",
       "    }\n",
       "\n",
       "    .dataframe tbody tr th {\n",
       "        vertical-align: top;\n",
       "    }\n",
       "\n",
       "    .dataframe thead th {\n",
       "        text-align: right;\n",
       "    }\n",
       "</style>\n",
       "<table border=\"1\" class=\"dataframe\">\n",
       "  <thead>\n",
       "    <tr style=\"text-align: right;\">\n",
       "      <th></th>\n",
       "      <th>年齢</th>\n",
       "      <th>性別</th>\n",
       "      <th>CMを見た</th>\n",
       "      <th>購入量</th>\n",
       "    </tr>\n",
       "  </thead>\n",
       "  <tbody>\n",
       "    <tr>\n",
       "      <th>0</th>\n",
       "      <td>63</td>\n",
       "      <td>1</td>\n",
       "      <td>1.0</td>\n",
       "      <td>49.386000</td>\n",
       "    </tr>\n",
       "    <tr>\n",
       "      <th>1</th>\n",
       "      <td>54</td>\n",
       "      <td>1</td>\n",
       "      <td>1.0</td>\n",
       "      <td>68.519280</td>\n",
       "    </tr>\n",
       "    <tr>\n",
       "      <th>2</th>\n",
       "      <td>31</td>\n",
       "      <td>1</td>\n",
       "      <td>1.0</td>\n",
       "      <td>82.560315</td>\n",
       "    </tr>\n",
       "    <tr>\n",
       "      <th>3</th>\n",
       "      <td>49</td>\n",
       "      <td>0</td>\n",
       "      <td>1.0</td>\n",
       "      <td>30.572583</td>\n",
       "    </tr>\n",
       "    <tr>\n",
       "      <th>4</th>\n",
       "      <td>23</td>\n",
       "      <td>0</td>\n",
       "      <td>0.0</td>\n",
       "      <td>55.393199</td>\n",
       "    </tr>\n",
       "    <tr>\n",
       "      <th>...</th>\n",
       "      <td>...</td>\n",
       "      <td>...</td>\n",
       "      <td>...</td>\n",
       "      <td>...</td>\n",
       "    </tr>\n",
       "    <tr>\n",
       "      <th>195</th>\n",
       "      <td>56</td>\n",
       "      <td>1</td>\n",
       "      <td>1.0</td>\n",
       "      <td>67.778285</td>\n",
       "    </tr>\n",
       "    <tr>\n",
       "      <th>196</th>\n",
       "      <td>65</td>\n",
       "      <td>1</td>\n",
       "      <td>1.0</td>\n",
       "      <td>57.830579</td>\n",
       "    </tr>\n",
       "    <tr>\n",
       "      <th>197</th>\n",
       "      <td>25</td>\n",
       "      <td>0</td>\n",
       "      <td>0.0</td>\n",
       "      <td>60.710280</td>\n",
       "    </tr>\n",
       "    <tr>\n",
       "      <th>198</th>\n",
       "      <td>16</td>\n",
       "      <td>0</td>\n",
       "      <td>0.0</td>\n",
       "      <td>57.440553</td>\n",
       "    </tr>\n",
       "    <tr>\n",
       "      <th>199</th>\n",
       "      <td>61</td>\n",
       "      <td>0</td>\n",
       "      <td>1.0</td>\n",
       "      <td>29.047600</td>\n",
       "    </tr>\n",
       "  </tbody>\n",
       "</table>\n",
       "<p>200 rows × 4 columns</p>\n",
       "</div>"
      ],
      "text/plain": [
       "     年齢  性別  CMを見た        購入量\n",
       "0    63   1    1.0  49.386000\n",
       "1    54   1    1.0  68.519280\n",
       "2    31   1    1.0  82.560315\n",
       "3    49   0    1.0  30.572583\n",
       "4    23   0    0.0  55.393199\n",
       "..   ..  ..    ...        ...\n",
       "195  56   1    1.0  67.778285\n",
       "196  65   1    1.0  57.830579\n",
       "197  25   0    0.0  60.710280\n",
       "198  16   0    0.0  57.440553\n",
       "199  61   0    1.0  29.047600\n",
       "\n",
       "[200 rows x 4 columns]"
      ]
     },
     "execution_count": 90,
     "metadata": {},
     "output_type": "execute_result"
    }
   ],
   "source": [
    "df"
   ]
  },
  {
   "cell_type": "code",
   "execution_count": 91,
   "metadata": {},
   "outputs": [
    {
     "name": "stdout",
     "output_type": "stream",
     "text": [
      "年齢       51.350000\n",
      "性別        0.550000\n",
      "CMを見た     1.000000\n",
      "購入量      52.992921\n",
      "dtype: float64\n",
      "----------\n",
      "年齢       32.933333\n",
      "性別        0.650000\n",
      "CMを見た     0.000000\n",
      "購入量      67.107809\n",
      "dtype: float64\n"
     ]
    }
   ],
   "source": [
    "# 平均値を比べる\n",
    "print(df[df[\"CMを見た\"]==1].mean())\n",
    "print(\"----------\")\n",
    "print(df[df[\"CMを見た\"]==0].mean())"
   ]
  },
  {
   "cell_type": "code",
   "execution_count": null,
   "metadata": {},
   "outputs": [],
   "source": []
  }
 ],
 "metadata": {
  "kernelspec": {
   "display_name": "Python 3",
   "language": "python",
   "name": "python3"
  },
  "language_info": {
   "codemirror_mode": {
    "name": "ipython",
    "version": 3
   },
   "file_extension": ".py",
   "mimetype": "text/x-python",
   "name": "python",
   "nbconvert_exporter": "python",
   "pygments_lexer": "ipython3",
   "version": "3.7.3"
  }
 },
 "nbformat": 4,
 "nbformat_minor": 4
}
