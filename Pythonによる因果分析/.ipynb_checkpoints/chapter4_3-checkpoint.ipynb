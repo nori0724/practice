{
 "cells": [
  {
   "cell_type": "markdown",
   "metadata": {},
   "source": [
    "# Doubly Robust法(DR法)による因果推論の実装"
   ]
  },
  {
   "cell_type": "code",
   "execution_count": 1,
   "metadata": {},
   "outputs": [],
   "source": [
    "# 乱数シードを固定\n",
    "import random\n",
    "import numpy as np\n",
    "import pandas as pd\n",
    "import matplotlib.pyplot as plt\n",
    "\n",
    "from numpy.random import randint\n",
    "from scipy.special import expit\n",
    "from numpy.random import randn\n",
    "\n",
    "random.seed(1234)\n",
    "np.random.seed(1234)"
   ]
  },
  {
   "cell_type": "code",
   "execution_count": 2,
   "metadata": {},
   "outputs": [],
   "source": [
    "# データ数\n",
    "num_data = 200\n",
    "\n",
    "# 年齢\n",
    "x_1 = randint(15, 75, num_data) # 15から75までの一様乱数\n",
    "\n",
    "# 性別\n",
    "x_2 = randint(0, 2, num_data) # 0か1の乱数\n",
    "\n",
    "# ノイズの発生\n",
    "e_z = randn(num_data) # 平均0、標準偏差1の正規分布\n",
    "\n",
    "# シグモイド関数に入れる部分\n",
    "z_base = x_1 + (1 - x_2) * 10 - 40 + 5*e_z\n",
    "\n",
    "# シグモイド関数を計算(CMを見る確率)\n",
    "z_prob = expit(0.1 * z_base)\n",
    "\n",
    "\n",
    "# テレビCMを見たかどうかの変数(0は見ていない、1は見た)\n",
    "Z = np.array([])\n",
    "\n",
    "for i in range(num_data):\n",
    "    Z_i = np.random.choice(2, size=1, p = [1 - z_prob[i], z_prob[i]])[0] # CMを見る確率をweightとして0　or　1を選ぶ\n",
    "    Z = np.append(Z, Z_i)\n",
    "    \n",
    "# ノイズの発生\n",
    "e_y = randn(num_data)\n",
    "\n",
    "Y = -x_1 + 30*x_2 + 10*Z + 80 + 10*e_y\n",
    "\n",
    "df = pd.DataFrame({\n",
    "    \"年齢\" : x_1,\n",
    "    \"性別\" : x_2, \n",
    "    \"CMを見た\" : Z,\n",
    "    \"購入量\" : Y\n",
    "})"
   ]
  },
  {
   "cell_type": "code",
   "execution_count": 3,
   "metadata": {},
   "outputs": [
    {
     "data": {
      "text/html": [
       "<div>\n",
       "<style scoped>\n",
       "    .dataframe tbody tr th:only-of-type {\n",
       "        vertical-align: middle;\n",
       "    }\n",
       "\n",
       "    .dataframe tbody tr th {\n",
       "        vertical-align: top;\n",
       "    }\n",
       "\n",
       "    .dataframe thead th {\n",
       "        text-align: right;\n",
       "    }\n",
       "</style>\n",
       "<table border=\"1\" class=\"dataframe\">\n",
       "  <thead>\n",
       "    <tr style=\"text-align: right;\">\n",
       "      <th></th>\n",
       "      <th>年齢</th>\n",
       "      <th>性別</th>\n",
       "      <th>CMを見た</th>\n",
       "      <th>購入量</th>\n",
       "    </tr>\n",
       "  </thead>\n",
       "  <tbody>\n",
       "    <tr>\n",
       "      <th>0</th>\n",
       "      <td>62</td>\n",
       "      <td>1</td>\n",
       "      <td>1.0</td>\n",
       "      <td>88.634641</td>\n",
       "    </tr>\n",
       "    <tr>\n",
       "      <th>1</th>\n",
       "      <td>34</td>\n",
       "      <td>1</td>\n",
       "      <td>0.0</td>\n",
       "      <td>79.047707</td>\n",
       "    </tr>\n",
       "    <tr>\n",
       "      <th>2</th>\n",
       "      <td>53</td>\n",
       "      <td>0</td>\n",
       "      <td>1.0</td>\n",
       "      <td>29.331802</td>\n",
       "    </tr>\n",
       "    <tr>\n",
       "      <th>3</th>\n",
       "      <td>68</td>\n",
       "      <td>0</td>\n",
       "      <td>1.0</td>\n",
       "      <td>13.211139</td>\n",
       "    </tr>\n",
       "    <tr>\n",
       "      <th>4</th>\n",
       "      <td>27</td>\n",
       "      <td>0</td>\n",
       "      <td>1.0</td>\n",
       "      <td>64.056204</td>\n",
       "    </tr>\n",
       "  </tbody>\n",
       "</table>\n",
       "</div>"
      ],
      "text/plain": [
       "   年齢  性別  CMを見た        購入量\n",
       "0  62   1    1.0  88.634641\n",
       "1  34   1    0.0  79.047707\n",
       "2  53   0    1.0  29.331802\n",
       "3  68   0    1.0  13.211139\n",
       "4  27   0    1.0  64.056204"
      ]
     },
     "execution_count": 3,
     "metadata": {},
     "output_type": "execute_result"
    }
   ],
   "source": [
    "df.head()"
   ]
  },
  {
   "cell_type": "markdown",
   "metadata": {},
   "source": [
    "## 反実仮想の回帰モデル  \n",
    "全員に対して  \n",
    "- cmを見ていない(z=0)時の購入量   と　　\n",
    "- cmを見た(z=1)時の購入量  \n",
    "  \n",
    "を求める"
   ]
  },
  {
   "cell_type": "code",
   "execution_count": 4,
   "metadata": {},
   "outputs": [],
   "source": [
    "from sklearn.linear_model import LinearRegression\n",
    "\n",
    "# 説明変数\n",
    "X = df[[\"年齢\", \"性別\", \"CMを見た\"]]\n",
    "\n",
    "# 目的変数\n",
    "y = df[\"購入量\"]"
   ]
  },
  {
   "cell_type": "code",
   "execution_count": 5,
   "metadata": {},
   "outputs": [],
   "source": [
    "# 回帰の実施(反実仮想)\n",
    "reg2 = LinearRegression().fit(X, y)"
   ]
  },
  {
   "cell_type": "code",
   "execution_count": 6,
   "metadata": {},
   "outputs": [],
   "source": [
    "# z= 0の場合\n",
    "X_0 = X.copy()\n",
    "X_0[\"CMを見た\"] = 0\n",
    "Y_0 =  reg2.predict(X_0)\n",
    "\n",
    "# z= 1の場合\n",
    "X_1 = X.copy()\n",
    "X_1[\"CMを見た\"] = 1\n",
    "Y_1 =  reg2.predict(X_1)"
   ]
  },
  {
   "cell_type": "markdown",
   "metadata": {},
   "source": [
    "### 傾向スコアを求めるロジスティック回帰モデルを構築"
   ]
  },
  {
   "cell_type": "code",
   "execution_count": 7,
   "metadata": {},
   "outputs": [
    {
     "name": "stdout",
     "output_type": "stream",
     "text": [
      "[[0.08420146 0.91579854]\n",
      " [0.53505367 0.46494633]\n",
      " [0.08392309 0.91607691]\n",
      " [0.02311324 0.97688676]\n",
      " [0.48908363 0.51091637]]\n"
     ]
    }
   ],
   "source": [
    "from sklearn.linear_model import LogisticRegression\n",
    "\n",
    "# 説明変数\n",
    "X = df[[\"年齢\", \"性別\"]]\n",
    "\n",
    "# 目的変数\n",
    "Z = df[\"CMを見た\"]\n",
    "\n",
    "# 回帰の実施\n",
    "reg = LogisticRegression().fit(X, Z)\n",
    "\n",
    "# 傾向スコアを求める\n",
    "Z_pre = reg.predict_proba(X)\n",
    "print(Z_pre[0:5])"
   ]
  },
  {
   "cell_type": "markdown",
   "metadata": {},
   "source": [
    "### ATEの実装"
   ]
  },
  {
   "cell_type": "code",
   "execution_count": 8,
   "metadata": {},
   "outputs": [
    {
     "name": "stdout",
     "output_type": "stream",
     "text": [
      "推定したATE 6.920851435108029\n"
     ]
    }
   ],
   "source": [
    "ATE_1_i = Y / Z_pre[:,1]*Z + (1-Z / Z_pre[:, 1])*Y_1\n",
    "ATE_0_i = Y / Z_pre[:,0]*(1-Z) + (1 - (1-Z )/ Z_pre[:, 0])*Y_0\n",
    "ATE = 1 / len(Y) * (ATE_1_i - ATE_0_i).sum()\n",
    "\n",
    "print(\"推定したATE\", ATE)"
   ]
  },
  {
   "cell_type": "code",
   "execution_count": null,
   "metadata": {},
   "outputs": [],
   "source": []
  }
 ],
 "metadata": {
  "kernelspec": {
   "display_name": "Python 3",
   "language": "python",
   "name": "python3"
  },
  "language_info": {
   "codemirror_mode": {
    "name": "ipython",
    "version": 3
   },
   "file_extension": ".py",
   "mimetype": "text/x-python",
   "name": "python",
   "nbconvert_exporter": "python",
   "pygments_lexer": "ipython3",
   "version": "3.7.3"
  }
 },
 "nbformat": 4,
 "nbformat_minor": 4
}
