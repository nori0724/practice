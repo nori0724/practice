{
 "cells": [
  {
   "cell_type": "markdown",
   "metadata": {},
   "source": [
    "# 傾向スコアを用いた逆確率重み付け方(IPTW)の実装"
   ]
  },
  {
   "cell_type": "code",
   "execution_count": 21,
   "metadata": {},
   "outputs": [],
   "source": [
    "# 乱数シードを固定\n",
    "import random\n",
    "import numpy as np\n",
    "import pandas as pd\n",
    "import matplotlib.pyplot as plt\n",
    "\n",
    "from numpy.random import randint\n",
    "from scipy.special import expit\n",
    "from numpy.random import randn\n",
    "\n",
    "random.seed(1234)\n",
    "np.random.seed(1234)"
   ]
  },
  {
   "cell_type": "markdown",
   "metadata": {},
   "source": [
    "## データの生成(chapter4_1と同じ)"
   ]
  },
  {
   "cell_type": "code",
   "execution_count": 38,
   "metadata": {},
   "outputs": [],
   "source": [
    "# データ数\n",
    "num_data = 200\n",
    "\n",
    "# 年齢\n",
    "x_1 = randint(15, 75, num_data) # 15から75までの一様乱数\n",
    "\n",
    "# 性別\n",
    "x_2 = randint(0, 2, num_data) # 0か1の乱数\n",
    "\n",
    "# ノイズの発生\n",
    "e_z = randn(num_data) # 平均0、標準偏差1の正規分布\n",
    "\n",
    "# シグモイド関数に入れる部分\n",
    "z_base = x_1 + (1 - x_2) * 10 - 40 + 5*e_z\n",
    "\n",
    "# シグモイド関数を計算(CMを見る確率)\n",
    "z_prob = expit(0.1 * z_base)\n",
    "\n",
    "\n",
    "# テレビCMを見たかどうかの変数(0は見ていない、1は見た)\n",
    "Z = np.array([])\n",
    "\n",
    "for i in range(num_data):\n",
    "    Z_i = np.random.choice(2, size=1, p = [1 - z_prob[i], z_prob[i]])[0] # CMを見る確率をweightとして0　or　1を選ぶ\n",
    "    Z = np.append(Z, Z_i)\n",
    "    \n",
    "# ノイズの発生\n",
    "e_y = randn(num_data)\n",
    "\n",
    "Y = -x_1 + 30*x_2 + 10*Z + 80 + 10*e_y\n",
    "\n",
    "df = pd.DataFrame({\n",
    "    \"年齢\" : x_1,\n",
    "    \"性別\" : x_2, \n",
    "    \"CMを見た\" : Z,\n",
    "    \"購入量\" : Y\n",
    "})"
   ]
  },
  {
   "cell_type": "code",
   "execution_count": 39,
   "metadata": {},
   "outputs": [
    {
     "data": {
      "text/html": [
       "<div>\n",
       "<style scoped>\n",
       "    .dataframe tbody tr th:only-of-type {\n",
       "        vertical-align: middle;\n",
       "    }\n",
       "\n",
       "    .dataframe tbody tr th {\n",
       "        vertical-align: top;\n",
       "    }\n",
       "\n",
       "    .dataframe thead th {\n",
       "        text-align: right;\n",
       "    }\n",
       "</style>\n",
       "<table border=\"1\" class=\"dataframe\">\n",
       "  <thead>\n",
       "    <tr style=\"text-align: right;\">\n",
       "      <th></th>\n",
       "      <th>年齢</th>\n",
       "      <th>性別</th>\n",
       "      <th>CMを見た</th>\n",
       "      <th>購入量</th>\n",
       "    </tr>\n",
       "  </thead>\n",
       "  <tbody>\n",
       "    <tr>\n",
       "      <th>0</th>\n",
       "      <td>39</td>\n",
       "      <td>1</td>\n",
       "      <td>1.0</td>\n",
       "      <td>92.528507</td>\n",
       "    </tr>\n",
       "    <tr>\n",
       "      <th>1</th>\n",
       "      <td>60</td>\n",
       "      <td>1</td>\n",
       "      <td>1.0</td>\n",
       "      <td>62.316669</td>\n",
       "    </tr>\n",
       "    <tr>\n",
       "      <th>2</th>\n",
       "      <td>28</td>\n",
       "      <td>1</td>\n",
       "      <td>0.0</td>\n",
       "      <td>83.276754</td>\n",
       "    </tr>\n",
       "    <tr>\n",
       "      <th>3</th>\n",
       "      <td>22</td>\n",
       "      <td>1</td>\n",
       "      <td>0.0</td>\n",
       "      <td>93.819148</td>\n",
       "    </tr>\n",
       "    <tr>\n",
       "      <th>4</th>\n",
       "      <td>33</td>\n",
       "      <td>0</td>\n",
       "      <td>1.0</td>\n",
       "      <td>60.642863</td>\n",
       "    </tr>\n",
       "  </tbody>\n",
       "</table>\n",
       "</div>"
      ],
      "text/plain": [
       "   年齢  性別  CMを見た        購入量\n",
       "0  39   1    1.0  92.528507\n",
       "1  60   1    1.0  62.316669\n",
       "2  28   1    0.0  83.276754\n",
       "3  22   1    0.0  93.819148\n",
       "4  33   0    1.0  60.642863"
      ]
     },
     "execution_count": 39,
     "metadata": {},
     "output_type": "execute_result"
    }
   ],
   "source": [
    "df.head()"
   ]
  },
  {
   "cell_type": "markdown",
   "metadata": {},
   "source": [
    "## 傾向スコアの実装"
   ]
  },
  {
   "cell_type": "code",
   "execution_count": 40,
   "metadata": {},
   "outputs": [],
   "source": [
    "from sklearn.linear_model import LogisticRegression"
   ]
  },
  {
   "cell_type": "code",
   "execution_count": 41,
   "metadata": {},
   "outputs": [],
   "source": [
    "# 説明変数\n",
    "X = df[[\"年齢\", \"性別\"]]\n",
    "\n",
    "# 被説明変数(目的変数)\n",
    "Z = df[\"CMを見た\"]\n",
    "\n",
    "# 回帰の実施\n",
    "reg = LogisticRegression().fit(X, Z)"
   ]
  },
  {
   "cell_type": "code",
   "execution_count": 42,
   "metadata": {},
   "outputs": [
    {
     "name": "stdout",
     "output_type": "stream",
     "text": [
      "係数beta [[ 0.09057178 -0.99177366]]\n",
      "係数alpha [-2.38964594]\n"
     ]
    }
   ],
   "source": [
    "# 回帰した結果の係数を出力\n",
    "print(\"係数beta\", reg.coef_)\n",
    "print(\"係数alpha\", reg.intercept_)"
   ]
  },
  {
   "cell_type": "markdown",
   "metadata": {},
   "source": [
    "### 結果の確認 \n",
    "本来の値\n",
    "- β_1 = 0.1  \n",
    "- β_2 = -1\n",
    "- α = -3  \n",
    "---\n",
    "元々仮定した式  \n",
    "Y^i =-x_1 + 30x_2 + 10Z + 80 + noise  \n",
    "※各係数にはシグモイド関数の係数0.1　が掛け算されることに注意"
   ]
  },
  {
   "cell_type": "markdown",
   "metadata": {},
   "source": [
    "## 各人の傾向スコア"
   ]
  },
  {
   "cell_type": "code",
   "execution_count": 43,
   "metadata": {
    "scrolled": true
   },
   "outputs": [
    {
     "name": "stdout",
     "output_type": "stream",
     "text": [
      "[[0.46235142 0.53764858]\n",
      " [0.11376096 0.88623904]\n",
      " [0.69960333 0.30039667]\n",
      " [0.80040705 0.19959295]\n",
      " [0.35452151 0.64547849]]\n",
      "-----\n",
      "0    1.0\n",
      "1    1.0\n",
      "2    0.0\n",
      "3    0.0\n",
      "4    1.0\n",
      "Name: CMを見た, dtype: float64\n"
     ]
    }
   ],
   "source": [
    "Z_pre = reg.predict_proba(X)\n",
    "print(Z_pre[0:5])\n",
    "print(\"-----\")\n",
    "print(Z[0:5]) # 5人ほどの正解"
   ]
  },
  {
   "cell_type": "markdown",
   "metadata": {},
   "source": [
    "## ATEスコアの実装"
   ]
  },
  {
   "cell_type": "code",
   "execution_count": 44,
   "metadata": {},
   "outputs": [
    {
     "name": "stdout",
     "output_type": "stream",
     "text": [
      "推定したATE 8.23746570236478\n"
     ]
    }
   ],
   "source": [
    "ATE_i = Y / Z_pre[:, 1] * Z - Y / Z_pre[:, 0] * (1 - Z )\n",
    "ATE = 1 / len(Y) * ATE_i.sum()\n",
    "print(\"推定したATE\", ATE)"
   ]
  },
  {
   "cell_type": "markdown",
   "metadata": {},
   "source": [
    "- 元々仮定した式    \n",
    "Y^i =-x_1 + 30x_2 + 10Z + 80 + noise  \n",
    "--- \n",
    "テレビCMを見ると購入量が10増えるモデルを仮定していた。  \n",
    "ATEは約8.2となっており、テレビCMの効果(因果の大きさ)がうまく推定されている"
   ]
  },
  {
   "cell_type": "code",
   "execution_count": 45,
   "metadata": {},
   "outputs": [
    {
     "data": {
      "text/plain": [
       "8.23746570236478"
      ]
     },
     "execution_count": 45,
     "metadata": {},
     "output_type": "execute_result"
    }
   ],
   "source": [
    "ATE"
   ]
  },
  {
   "cell_type": "code",
   "execution_count": null,
   "metadata": {},
   "outputs": [],
   "source": []
  }
 ],
 "metadata": {
  "kernelspec": {
   "display_name": "Python 3",
   "language": "python",
   "name": "python3"
  },
  "language_info": {
   "codemirror_mode": {
    "name": "ipython",
    "version": 3
   },
   "file_extension": ".py",
   "mimetype": "text/x-python",
   "name": "python",
   "nbconvert_exporter": "python",
   "pygments_lexer": "ipython3",
   "version": "3.7.3"
  }
 },
 "nbformat": 4,
 "nbformat_minor": 4
}
