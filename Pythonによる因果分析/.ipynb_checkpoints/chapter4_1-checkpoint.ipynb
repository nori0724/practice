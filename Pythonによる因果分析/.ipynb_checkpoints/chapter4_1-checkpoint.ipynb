{
 "cells": [
  {
   "cell_type": "code",
   "execution_count": 5,
   "metadata": {},
   "outputs": [],
   "source": [
    "# 乱数シードを固定\n",
    "import random\n",
    "import numpy as np\n",
    "import pandas as pd\n",
    "import matplotlib.pyplot as plt\n",
    "\n",
    "random.seed(1234)\n",
    "np.random.seed(1234)"
   ]
  },
  {
   "cell_type": "code",
   "execution_count": 6,
   "metadata": {},
   "outputs": [],
   "source": [
    "from numpy.random import randint\n",
    "from scipy.special import expit\n",
    "from numpy.random import randn"
   ]
  },
  {
   "cell_type": "code",
   "execution_count": 7,
   "metadata": {},
   "outputs": [],
   "source": [
    "# データ数\n",
    "num_data = 200\n",
    "\n",
    "# 年齢\n",
    "x_1 = randint(15, 75, num_data) # 15から75までの一様乱数\n",
    "\n",
    "# 性別\n",
    "x_2 = randint(0, 2, num_data) # 0か1の乱数"
   ]
  },
  {
   "cell_type": "code",
   "execution_count": 8,
   "metadata": {},
   "outputs": [
    {
     "data": {
      "text/plain": [
       "array([62, 34, 53, 68, 27, 67, 39, 72, 30, 64, 38, 56, 41, 45, 58, 45, 59,\n",
       "       41, 69, 73, 71, 63, 43, 20, 31, 24, 69, 62, 65, 63, 74, 27, 52, 49,\n",
       "       53, 73, 18, 54, 26, 15, 56, 26, 31, 18, 17, 34, 27, 16, 26, 66, 58,\n",
       "       73, 32, 29, 66, 22, 57, 58, 61, 43, 32, 38, 28, 67, 47, 27, 20, 64,\n",
       "       46, 52, 46, 72, 40, 35, 60, 31, 56, 23, 71, 59, 21, 71, 37, 59, 41,\n",
       "       34, 62, 64, 33, 36, 61, 49, 52, 60, 53, 22, 51, 18, 20, 61, 62, 69,\n",
       "       67, 69, 62, 30, 49, 25, 43, 19, 33, 54, 40, 70, 58, 29, 38, 65, 72,\n",
       "       70, 35, 56, 15, 72, 49, 72, 41, 48, 65, 72, 64, 36, 22, 19, 70, 54,\n",
       "       32, 73, 67, 15, 36, 67, 56, 65, 56, 16, 29, 18, 45, 27, 68, 24, 60,\n",
       "       34, 41, 47, 19, 74, 51, 15, 37, 71, 35, 23, 59, 64, 39, 45, 56, 30,\n",
       "       23, 17, 31, 58, 17, 65, 30, 18, 61, 49, 72, 70, 51, 39, 48, 72, 57,\n",
       "       17, 38, 60, 35, 50, 33, 27, 20, 68, 32, 31, 23, 60])"
      ]
     },
     "execution_count": 8,
     "metadata": {},
     "output_type": "execute_result"
    }
   ],
   "source": [
    "x_1"
   ]
  },
  {
   "cell_type": "code",
   "execution_count": 9,
   "metadata": {},
   "outputs": [
    {
     "data": {
      "text/plain": [
       "array([1, 1, 0, 0, 0, 1, 1, 0, 0, 1, 1, 1, 0, 1, 1, 1, 1, 1, 1, 0, 0, 1,\n",
       "       0, 1, 1, 0, 1, 1, 0, 0, 0, 1, 0, 1, 0, 0, 0, 0, 0, 1, 1, 1, 1, 1,\n",
       "       0, 1, 1, 1, 1, 0, 1, 1, 1, 1, 1, 0, 1, 1, 0, 1, 0, 0, 0, 0, 1, 1,\n",
       "       1, 1, 1, 0, 1, 0, 0, 0, 1, 1, 1, 0, 0, 1, 1, 1, 0, 0, 1, 0, 0, 1,\n",
       "       1, 1, 1, 1, 0, 1, 1, 0, 0, 1, 0, 0, 1, 1, 0, 1, 1, 0, 1, 1, 0, 0,\n",
       "       1, 1, 0, 1, 1, 0, 1, 1, 1, 0, 0, 0, 1, 1, 1, 0, 1, 1, 0, 0, 0, 1,\n",
       "       0, 0, 1, 1, 0, 0, 0, 1, 1, 1, 0, 1, 1, 0, 1, 0, 1, 1, 0, 1, 1, 1,\n",
       "       0, 0, 1, 0, 1, 1, 1, 1, 1, 1, 1, 0, 0, 0, 0, 1, 1, 0, 1, 1, 0, 0,\n",
       "       1, 0, 1, 1, 0, 0, 0, 1, 1, 1, 1, 1, 0, 0, 0, 0, 0, 1, 0, 1, 0, 0,\n",
       "       1, 0])"
      ]
     },
     "execution_count": 9,
     "metadata": {},
     "output_type": "execute_result"
    }
   ],
   "source": [
    "x_2"
   ]
  },
  {
   "cell_type": "markdown",
   "metadata": {},
   "source": [
    "- CMを見たかどうかを決める\n",
    "- 年齢(x_1)が高いほど、性別(x_2)が女性であるほどCMを見る確率が高いと仮定\n",
    "- sigmoid関数を使用"
   ]
  },
  {
   "cell_type": "code",
   "execution_count": 10,
   "metadata": {},
   "outputs": [],
   "source": [
    "# ノイズの発生\n",
    "e_z = randn(num_data) # 平均0、標準偏差1の正規分布\n",
    "\n",
    "# シグモイド関数に入れる部分\n",
    "z_base = x_1 + (1 - x_2) * 10 - 40 + 5*e_z\n",
    "\n",
    "# シグモイド関数を計算(CMを見る確率)\n",
    "z_prob = expit(0.1 * z_base)"
   ]
  },
  {
   "cell_type": "code",
   "execution_count": 11,
   "metadata": {},
   "outputs": [],
   "source": [
    "# テレビCMを見たかどうかの変数(0は見ていない、1は見た)\n",
    "Z = np.array([])\n",
    "\n",
    "for i in range(num_data):\n",
    "    Z_i = np.random.choice(2, size=1, p = [1 - z_prob[i], z_prob[i]])[0] # CMを見る確率をweightとして0　or　1を選ぶ\n",
    "    Z = np.append(Z, Z_i)"
   ]
  },
  {
   "cell_type": "markdown",
   "metadata": {},
   "source": [
    "### 購入量Y^i  \n",
    "- Y^i =-x_1 + 30*x_2 + 10*Z + 80 + noise\n",
    "- 年齢(x_1)が大きいほど購入量は減少    \n",
    "- 男性(x_2 ==1)の方が購入量は多い  \n",
    "- テレビCMを見る(Z==1)と購入量は増える   \n",
    "- -- \n",
    "- ここで、テレビCMによる購入への効果は+10が正解となる"
   ]
  },
  {
   "cell_type": "code",
   "execution_count": 12,
   "metadata": {},
   "outputs": [],
   "source": [
    "# ノイズの発生\n",
    "e_y = randn(num_data)\n",
    "\n",
    "Y = -x_1 + 30*x_2 + 10*Z + 80 + 10*e_y"
   ]
  },
  {
   "cell_type": "code",
   "execution_count": 13,
   "metadata": {},
   "outputs": [],
   "source": [
    "df = pd.DataFrame({\n",
    "    \"年齢\" : x_1,\n",
    "    \"性別\" : x_2, \n",
    "    \"CMを見た\" : Z,\n",
    "    \"購入量\" : Y\n",
    "})"
   ]
  },
  {
   "cell_type": "code",
   "execution_count": 14,
   "metadata": {},
   "outputs": [
    {
     "data": {
      "text/html": [
       "<div>\n",
       "<style scoped>\n",
       "    .dataframe tbody tr th:only-of-type {\n",
       "        vertical-align: middle;\n",
       "    }\n",
       "\n",
       "    .dataframe tbody tr th {\n",
       "        vertical-align: top;\n",
       "    }\n",
       "\n",
       "    .dataframe thead th {\n",
       "        text-align: right;\n",
       "    }\n",
       "</style>\n",
       "<table border=\"1\" class=\"dataframe\">\n",
       "  <thead>\n",
       "    <tr style=\"text-align: right;\">\n",
       "      <th></th>\n",
       "      <th>年齢</th>\n",
       "      <th>性別</th>\n",
       "      <th>CMを見た</th>\n",
       "      <th>購入量</th>\n",
       "    </tr>\n",
       "  </thead>\n",
       "  <tbody>\n",
       "    <tr>\n",
       "      <th>0</th>\n",
       "      <td>62</td>\n",
       "      <td>1</td>\n",
       "      <td>1.0</td>\n",
       "      <td>88.634641</td>\n",
       "    </tr>\n",
       "    <tr>\n",
       "      <th>1</th>\n",
       "      <td>34</td>\n",
       "      <td>1</td>\n",
       "      <td>0.0</td>\n",
       "      <td>79.047707</td>\n",
       "    </tr>\n",
       "    <tr>\n",
       "      <th>2</th>\n",
       "      <td>53</td>\n",
       "      <td>0</td>\n",
       "      <td>1.0</td>\n",
       "      <td>29.331802</td>\n",
       "    </tr>\n",
       "    <tr>\n",
       "      <th>3</th>\n",
       "      <td>68</td>\n",
       "      <td>0</td>\n",
       "      <td>1.0</td>\n",
       "      <td>13.211139</td>\n",
       "    </tr>\n",
       "    <tr>\n",
       "      <th>4</th>\n",
       "      <td>27</td>\n",
       "      <td>0</td>\n",
       "      <td>1.0</td>\n",
       "      <td>64.056204</td>\n",
       "    </tr>\n",
       "    <tr>\n",
       "      <th>...</th>\n",
       "      <td>...</td>\n",
       "      <td>...</td>\n",
       "      <td>...</td>\n",
       "      <td>...</td>\n",
       "    </tr>\n",
       "    <tr>\n",
       "      <th>195</th>\n",
       "      <td>68</td>\n",
       "      <td>1</td>\n",
       "      <td>1.0</td>\n",
       "      <td>40.662471</td>\n",
       "    </tr>\n",
       "    <tr>\n",
       "      <th>196</th>\n",
       "      <td>32</td>\n",
       "      <td>0</td>\n",
       "      <td>1.0</td>\n",
       "      <td>56.190679</td>\n",
       "    </tr>\n",
       "    <tr>\n",
       "      <th>197</th>\n",
       "      <td>31</td>\n",
       "      <td>0</td>\n",
       "      <td>0.0</td>\n",
       "      <td>60.326153</td>\n",
       "    </tr>\n",
       "    <tr>\n",
       "      <th>198</th>\n",
       "      <td>23</td>\n",
       "      <td>1</td>\n",
       "      <td>1.0</td>\n",
       "      <td>104.176663</td>\n",
       "    </tr>\n",
       "    <tr>\n",
       "      <th>199</th>\n",
       "      <td>60</td>\n",
       "      <td>0</td>\n",
       "      <td>1.0</td>\n",
       "      <td>40.833314</td>\n",
       "    </tr>\n",
       "  </tbody>\n",
       "</table>\n",
       "<p>200 rows × 4 columns</p>\n",
       "</div>"
      ],
      "text/plain": [
       "     年齢  性別  CMを見た         購入量\n",
       "0    62   1    1.0   88.634641\n",
       "1    34   1    0.0   79.047707\n",
       "2    53   0    1.0   29.331802\n",
       "3    68   0    1.0   13.211139\n",
       "4    27   0    1.0   64.056204\n",
       "..   ..  ..    ...         ...\n",
       "195  68   1    1.0   40.662471\n",
       "196  32   0    1.0   56.190679\n",
       "197  31   0    0.0   60.326153\n",
       "198  23   1    1.0  104.176663\n",
       "199  60   0    1.0   40.833314\n",
       "\n",
       "[200 rows x 4 columns]"
      ]
     },
     "execution_count": 14,
     "metadata": {},
     "output_type": "execute_result"
    }
   ],
   "source": [
    "df"
   ]
  },
  {
   "cell_type": "code",
   "execution_count": 15,
   "metadata": {},
   "outputs": [
    {
     "name": "stdout",
     "output_type": "stream",
     "text": [
      "年齢       52.697842\n",
      "性別        0.517986\n",
      "CMを見た     1.000000\n",
      "購入量      52.070064\n",
      "dtype: float64\n",
      "----------\n",
      "年齢       30.868852\n",
      "性別        0.672131\n",
      "CMを見た     0.000000\n",
      "購入量      69.901482\n",
      "dtype: float64\n"
     ]
    }
   ],
   "source": [
    "# 平均値を比べる\n",
    "print(df[df[\"CMを見た\"]==1].mean())\n",
    "print(\"----------\")\n",
    "print(df[df[\"CMを見た\"]==0].mean())"
   ]
  },
  {
   "cell_type": "markdown",
   "metadata": {},
   "source": [
    "# 回帰分析"
   ]
  },
  {
   "cell_type": "code",
   "execution_count": 16,
   "metadata": {},
   "outputs": [],
   "source": [
    "from sklearn.linear_model import LinearRegression"
   ]
  },
  {
   "cell_type": "code",
   "execution_count": 18,
   "metadata": {},
   "outputs": [],
   "source": [
    "# 説明変数\n",
    "X = df[[\"年齢\", \"性別\", \"CMを見た\"]]\n",
    "\n",
    "# 被説明変数(目的変数)\n",
    "y = df[[\"購入量\"]]"
   ]
  },
  {
   "cell_type": "code",
   "execution_count": 19,
   "metadata": {},
   "outputs": [
    {
     "data": {
      "text/html": [
       "<div>\n",
       "<style scoped>\n",
       "    .dataframe tbody tr th:only-of-type {\n",
       "        vertical-align: middle;\n",
       "    }\n",
       "\n",
       "    .dataframe tbody tr th {\n",
       "        vertical-align: top;\n",
       "    }\n",
       "\n",
       "    .dataframe thead th {\n",
       "        text-align: right;\n",
       "    }\n",
       "</style>\n",
       "<table border=\"1\" class=\"dataframe\">\n",
       "  <thead>\n",
       "    <tr style=\"text-align: right;\">\n",
       "      <th></th>\n",
       "      <th>年齢</th>\n",
       "      <th>性別</th>\n",
       "      <th>CMを見た</th>\n",
       "    </tr>\n",
       "  </thead>\n",
       "  <tbody>\n",
       "    <tr>\n",
       "      <th>年齢</th>\n",
       "      <td>1.000000</td>\n",
       "      <td>-0.036037</td>\n",
       "      <td>0.556589</td>\n",
       "    </tr>\n",
       "    <tr>\n",
       "      <th>性別</th>\n",
       "      <td>-0.036037</td>\n",
       "      <td>1.000000</td>\n",
       "      <td>-0.143154</td>\n",
       "    </tr>\n",
       "    <tr>\n",
       "      <th>CMを見た</th>\n",
       "      <td>0.556589</td>\n",
       "      <td>-0.143154</td>\n",
       "      <td>1.000000</td>\n",
       "    </tr>\n",
       "  </tbody>\n",
       "</table>\n",
       "</div>"
      ],
      "text/plain": [
       "             年齢        性別     CMを見た\n",
       "年齢     1.000000 -0.036037  0.556589\n",
       "性別    -0.036037  1.000000 -0.143154\n",
       "CMを見た  0.556589 -0.143154  1.000000"
      ]
     },
     "execution_count": 19,
     "metadata": {},
     "output_type": "execute_result"
    }
   ],
   "source": [
    "X.corr()"
   ]
  },
  {
   "cell_type": "code",
   "execution_count": 21,
   "metadata": {},
   "outputs": [],
   "source": [
    "# 回帰の実施\n",
    "reg = LinearRegression().fit(X, y)"
   ]
  },
  {
   "cell_type": "code",
   "execution_count": 23,
   "metadata": {},
   "outputs": [
    {
     "name": "stdout",
     "output_type": "stream",
     "text": [
      "係数： [[-0.95488825 28.98442402  7.48064715]]\n"
     ]
    }
   ],
   "source": [
    "# 回帰した結果係数を出力\n",
    "print(\"係数：\", reg.coef_)"
   ]
  },
  {
   "cell_type": "markdown",
   "metadata": {},
   "source": [
    "### 係数の結果  \n",
    "- 年齢：-0.95488825\n",
    "- 性別：28.98442402\n",
    "- CM：7.48064715\n",
    "---\n",
    "#### 元々仮定した式  \n",
    "Y^i =-x_1 + 30x_2 + 10Z + 80 + noise"
   ]
  },
  {
   "cell_type": "code",
   "execution_count": 27,
   "metadata": {},
   "outputs": [
    {
     "name": "stdout",
     "output_type": "stream",
     "text": [
      "決定係数 0.8314895765067984\n"
     ]
    }
   ],
   "source": [
    "from sklearn.metrics import r2_score\n",
    "y_pred = reg.predict(X)\n",
    "\n",
    "print(\"決定係数\", r2_score(y, y_pred))"
   ]
  },
  {
   "cell_type": "code",
   "execution_count": 28,
   "metadata": {},
   "outputs": [
    {
     "name": "stdout",
     "output_type": "stream",
     "text": [
      "                            OLS Regression Results                            \n",
      "==============================================================================\n",
      "Dep. Variable:                    購入量   R-squared:                       0.831\n",
      "Model:                            OLS   Adj. R-squared:                  0.829\n",
      "Method:                 Least Squares   F-statistic:                     322.4\n",
      "Date:                Wed, 02 Sep 2020   Prob (F-statistic):           1.66e-75\n",
      "Time:                        22:30:54   Log-Likelihood:                -735.80\n",
      "No. Observations:                 200   AIC:                             1480.\n",
      "Df Residuals:                     196   BIC:                             1493.\n",
      "Df Model:                           3                                         \n",
      "Covariance Type:            nonrobust                                         \n",
      "==============================================================================\n",
      "                 coef    std err          t      P>|t|      [0.025      0.975]\n",
      "------------------------------------------------------------------------------\n",
      "const         79.8965      2.066     38.676      0.000      75.822      83.971\n",
      "年齢            -0.9549      0.046    -20.896      0.000      -1.045      -0.865\n",
      "性別            28.9844      1.397     20.745      0.000      26.229      31.740\n",
      "CMを見た          7.4806      1.810      4.134      0.000       3.912      11.050\n",
      "==============================================================================\n",
      "Omnibus:                        4.695   Durbin-Watson:                   1.693\n",
      "Prob(Omnibus):                  0.096   Jarque-Bera (JB):                4.482\n",
      "Skew:                           0.272   Prob(JB):                        0.106\n",
      "Kurtosis:                       3.492   Cond. No.                         160.\n",
      "==============================================================================\n",
      "\n",
      "Warnings:\n",
      "[1] Standard Errors assume that the covariance matrix of the errors is correctly specified.\n"
     ]
    }
   ],
   "source": [
    "import statsmodels.api as sm\n",
    "\n",
    "model = sm.OLS(y, sm.add_constant(X))\n",
    "results=model.fit()\n",
    "print(results.summary())"
   ]
  },
  {
   "cell_type": "code",
   "execution_count": null,
   "metadata": {},
   "outputs": [],
   "source": []
  }
 ],
 "metadata": {
  "kernelspec": {
   "display_name": "Python 3",
   "language": "python",
   "name": "python3"
  },
  "language_info": {
   "codemirror_mode": {
    "name": "ipython",
    "version": 3
   },
   "file_extension": ".py",
   "mimetype": "text/x-python",
   "name": "python",
   "nbconvert_exporter": "python",
   "pygments_lexer": "ipython3",
   "version": "3.7.3"
  }
 },
 "nbformat": 4,
 "nbformat_minor": 4
}
