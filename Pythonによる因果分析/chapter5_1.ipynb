{
 "cells": [
  {
   "cell_type": "markdown",
   "metadata": {},
   "source": [
    "# ランダムフォレストによる分類と回帰の仕組み"
   ]
  },
  {
   "cell_type": "markdown",
   "metadata": {},
   "source": [
    "## 決定木による分類"
   ]
  },
  {
   "cell_type": "code",
   "execution_count": 17,
   "metadata": {},
   "outputs": [],
   "source": [
    "# 乱数シードを固定\n",
    "import random\n",
    "import numpy as np\n",
    "import pandas as pd\n",
    "import matplotlib.pyplot as plt\n",
    "\n",
    "from numpy.random import randint\n",
    "from scipy.special import expit\n",
    "from numpy.random import randn"
   ]
  },
  {
   "cell_type": "code",
   "execution_count": 27,
   "metadata": {},
   "outputs": [],
   "source": [
    "random.seed(1234)\n",
    "np.random.seed(1234)\n",
    "\n",
    "# データ数\n",
    "num_data = 200\n",
    "\n",
    "# 年齢\n",
    "x_1 = randint(15, 75, num_data) # 15から75までの一様乱数\n",
    "\n",
    "# 性別\n",
    "x_2 = randint(0, 2, num_data) # 0か1の乱数\n",
    "\n",
    "# ノイズの発生\n",
    "e_z = randn(num_data) # 平均0、標準偏差1の正規分布\n",
    "\n",
    "# シグモイド関数に入れる部分\n",
    "z_base = x_1 + (1 - x_2) * 10 - 40 + 5*e_z\n",
    "\n",
    "# シグモイド関数を計算(CMを見る確率)\n",
    "z_prob = expit(0.1 * z_base)\n",
    "\n",
    "\n",
    "# テレビCMを見たかどうかの変数(0は見ていない、1は見た)\n",
    "Z = np.array([])\n",
    "\n",
    "for i in range(num_data):\n",
    "    Z_i = np.random.choice(2, size=1, p = [1 - z_prob[i], z_prob[i]])[0] # CMを見る確率をweightとして0　or　1を選ぶ\n",
    "    Z = np.append(Z, Z_i)\n",
    "    \n",
    "# ノイズの発生\n",
    "e_y = randn(num_data)\n",
    "\n",
    "Y = -x_1 + 30*x_2 + 10*Z + 80 + 10*e_y\n",
    "\n",
    "df = pd.DataFrame({\n",
    "    \"年齢\" : x_1,\n",
    "    \"性別\" : x_2, \n",
    "    \"CMを見た\" : Z,\n",
    "    \"購入量\" : Y\n",
    "})"
   ]
  },
  {
   "cell_type": "code",
   "execution_count": 28,
   "metadata": {},
   "outputs": [],
   "source": [
    "from sklearn.tree import DecisionTreeClassifier\n",
    "from sklearn.model_selection import train_test_split"
   ]
  },
  {
   "cell_type": "code",
   "execution_count": 31,
   "metadata": {},
   "outputs": [
    {
     "name": "stdout",
     "output_type": "stream",
     "text": [
      "深さ1の性能 0.825\n",
      "深さ2の性能 0.825\n",
      "深さ3の性能 0.825\n",
      "深さ4の性能 0.8125\n"
     ]
    }
   ],
   "source": [
    "# 説明変数\n",
    "X = df[[\"年齢\", \"性別\"]]\n",
    "\n",
    "# 目的変数\n",
    "Z = df[\"CMを見た\"]\n",
    "\n",
    "# データを訓練と検証に分割\n",
    "X_train, X_val, Z_train, Z_val = train_test_split(X, Z, train_size=0.6, random_state=0)\n",
    "\n",
    "# 学習を性能確認(1)\n",
    "clf = DecisionTreeClassifier(max_depth=1, random_state=0)\n",
    "clf.fit(X_train, Z_train)\n",
    "print(\"深さ1の性能\", clf.score(X_val, Z_val))\n",
    "\n",
    "# 学習を性能確認(2)\n",
    "clf = DecisionTreeClassifier(max_depth=2, random_state=0)\n",
    "clf.fit(X_train, Z_train)\n",
    "print(\"深さ2の性能\", clf.score(X_val, Z_val))\n",
    "\n",
    "# 学習を性能確認(3)\n",
    "clf = DecisionTreeClassifier(max_depth=3, random_state=0)\n",
    "clf.fit(X_train, Z_train)\n",
    "print(\"深さ3の性能\", clf.score(X_val, Z_val))\n",
    "\n",
    "# 学習を性能確認(4)\n",
    "clf = DecisionTreeClassifier(max_depth=4, random_state=0)\n",
    "clf.fit(X_train, Z_train)\n",
    "print(\"深さ4の性能\", clf.score(X_val, Z_val))"
   ]
  },
  {
   "cell_type": "markdown",
   "metadata": {},
   "source": [
    "※clf.scoreは決定係数"
   ]
  },
  {
   "cell_type": "markdown",
   "metadata": {},
   "source": [
    "## 決定技による回帰"
   ]
  },
  {
   "cell_type": "code",
   "execution_count": 32,
   "metadata": {},
   "outputs": [],
   "source": [
    "from sklearn.tree import DecisionTreeRegressor"
   ]
  },
  {
   "cell_type": "code",
   "execution_count": 33,
   "metadata": {},
   "outputs": [
    {
     "name": "stdout",
     "output_type": "stream",
     "text": [
      "深さ1の性能 0.3004019973648957\n",
      "深さ2の性能 0.7127717970230698\n",
      "深さ3の性能 0.8031318025369502\n",
      "深さ4の性能 0.7555829313737836\n"
     ]
    }
   ],
   "source": [
    "# 説明変数\n",
    "X = df[[\"年齢\", \"性別\"]]\n",
    "\n",
    "# 目的変数\n",
    "Y = df[\"購入量\"]\n",
    "\n",
    "# データを訓練と検証に分割\n",
    "X_train, X_val, Y_train, Y_val = train_test_split(X, Y, train_size=0.6, random_state=0)\n",
    "\n",
    "# 学習を性能確認(1)\n",
    "clf = DecisionTreeRegressor(max_depth=1, random_state=0)\n",
    "clf.fit(X_train, Y_train)\n",
    "print(\"深さ1の性能\", clf.score(X_val, Y_val))\n",
    "\n",
    "# 学習を性能確認(2)\n",
    "clf = DecisionTreeRegressor(max_depth=2, random_state=0)\n",
    "clf.fit(X_train, Y_train)\n",
    "print(\"深さ2の性能\", clf.score(X_val, Y_val))\n",
    "\n",
    "# 学習を性能確認(3)\n",
    "clf = DecisionTreeRegressor(max_depth=3, random_state=0)\n",
    "clf.fit(X_train, Y_train)\n",
    "print(\"深さ3の性能\", clf.score(X_val, Y_val))\n",
    "\n",
    "# 学習を性能確認(4)\n",
    "clf = DecisionTreeRegressor(max_depth=4, random_state=0)\n",
    "clf.fit(X_train, Y_train)\n",
    "print(\"深さ4の性能\", clf.score(X_val, Y_val))"
   ]
  },
  {
   "cell_type": "code",
   "execution_count": null,
   "metadata": {},
   "outputs": [],
   "source": []
  }
 ],
 "metadata": {
  "kernelspec": {
   "display_name": "Python 3",
   "language": "python",
   "name": "python3"
  },
  "language_info": {
   "codemirror_mode": {
    "name": "ipython",
    "version": 3
   },
   "file_extension": ".py",
   "mimetype": "text/x-python",
   "name": "python",
   "nbconvert_exporter": "python",
   "pygments_lexer": "ipython3",
   "version": "3.7.3"
  }
 },
 "nbformat": 4,
 "nbformat_minor": 4
}
