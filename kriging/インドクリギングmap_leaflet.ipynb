{
 "cells": [
  {
   "cell_type": "code",
   "execution_count": 1,
   "metadata": {},
   "outputs": [
    {
     "name": "stdout",
     "output_type": "stream",
     "text": [
      "\n",
      "The downloaded binary packages are in\n",
      "\t/var/folders/jb/jxztdls55vncm84hp50zf9n40000gn/T//RtmpQ5DvrF/downloaded_packages\n"
     ]
    },
    {
     "name": "stderr",
     "output_type": "stream",
     "text": [
      "\n",
      "Attaching package: ‘dplyr’\n",
      "\n",
      "\n",
      "The following objects are masked from ‘package:stats’:\n",
      "\n",
      "    filter, lag\n",
      "\n",
      "\n",
      "The following objects are masked from ‘package:base’:\n",
      "\n",
      "    intersect, setdiff, setequal, union\n",
      "\n",
      "\n",
      "Linking to GEOS 3.7.2, GDAL 2.4.2, PROJ 5.2.0\n",
      "\n"
     ]
    }
   ],
   "source": [
    "install.packages(\"leaflet\")\n",
    "library(leaflet)\n",
    "library(dplyr)\n",
    "library(xml2)\n",
    "library(sf)\n",
    "library(htmlwidgets)"
   ]
  },
  {
   "cell_type": "code",
   "execution_count": 21,
   "metadata": {},
   "outputs": [
    {
     "name": "stderr",
     "output_type": "stream",
     "text": [
      "Warning message in CPL_read_ogr(dsn, layer, query, as.character(options), quiet, :\n",
      "“GDAL Error 4: Unable to open /Users/masanoritakahashi/Documents/practice/kriging/shp/shapfile_secby_03.shx or /Users/masanoritakahashi/Documents/practice/kriging/shp/shapfile_secby_03.SHX. Set SHAPE_RESTORE_SHX config option to YES to restore or create it.”\n"
     ]
    },
    {
     "ename": "ERROR",
     "evalue": "Error: Cannot open \"/Users/masanoritakahashi/Documents/practice/kriging/shp/shapfile_secby_03.shp\"; The source could be corrupt or not supported. See `st_drivers()` for a list of supported formats.\n",
     "output_type": "error",
     "traceback": [
      "Error: Cannot open \"/Users/masanoritakahashi/Documents/practice/kriging/shp/shapfile_secby_03.shp\"; The source could be corrupt or not supported. See `st_drivers()` for a list of supported formats.\nTraceback:\n",
      "1. read_sf(\"shp/shapfile_secby_03.shp\")",
      "2. st_read(..., quiet = quiet, stringsAsFactors = stringsAsFactors, \n .     as_tibble = as_tibble)",
      "3. st_read.character(..., quiet = quiet, stringsAsFactors = stringsAsFactors, \n .     as_tibble = as_tibble)",
      "4. CPL_read_ogr(dsn, layer, query, as.character(options), quiet, \n .     type, fid_column_name, drivers, wkt_filter, promote_to_multi, \n .     int64_as_string, dsn_exists, dsn_isdb)"
     ]
    }
   ],
   "source": [
    "m <- read_sf(\"shp/shapfile_secby_03.shp\")"
   ]
  },
  {
   "cell_type": "code",
   "execution_count": 22,
   "metadata": {},
   "outputs": [],
   "source": [
    "target <- \"PM25\"\n",
    "\n",
    "## カラーパレット定義\n",
    "pal <- colorNumeric(palette = \"viridis\", domain = m[[target]])\n",
    "\n",
    "map <- leaflet() %>%\n",
    "  addProviderTiles(providers$CartoDB) %>% \n",
    "  addPolygons(\n",
    "    data = m, \n",
    "    color = ~pal(m[[target]]), \n",
    "    stroke = FALSE,\n",
    "    label = as.character(m[[target]])\n",
    "  ) %>% \n",
    "  addLegend(pal = pal, values = m[[target]], title = target)"
   ]
  },
  {
   "cell_type": "code",
   "execution_count": 23,
   "metadata": {},
   "outputs": [],
   "source": [
    "saveWidget(map, file=\"india.html\")"
   ]
  },
  {
   "cell_type": "code",
   "execution_count": null,
   "metadata": {},
   "outputs": [],
   "source": []
  }
 ],
 "metadata": {
  "kernelspec": {
   "display_name": "R",
   "language": "R",
   "name": "ir"
  },
  "language_info": {
   "codemirror_mode": "r",
   "file_extension": ".r",
   "mimetype": "text/x-r-source",
   "name": "R",
   "pygments_lexer": "r",
   "version": "3.6.1"
  }
 },
 "nbformat": 4,
 "nbformat_minor": 4
}
