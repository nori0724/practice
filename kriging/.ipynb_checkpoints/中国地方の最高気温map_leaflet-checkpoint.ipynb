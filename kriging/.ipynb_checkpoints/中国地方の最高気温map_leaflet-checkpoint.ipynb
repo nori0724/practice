{
 "cells": [
  {
   "cell_type": "markdown",
   "metadata": {},
   "source": [
    "# 参考　　\n",
    "- https://qiita.com/nozma/items/b89d9471ea804e9ea9d3"
   ]
  },
  {
   "cell_type": "code",
   "execution_count": 1,
   "metadata": {},
   "outputs": [
    {
     "name": "stdout",
     "output_type": "stream",
     "text": [
      "\n",
      "The downloaded binary packages are in\n",
      "\t/var/folders/jb/jxztdls55vncm84hp50zf9n40000gn/T//RtmpBzqf0M/downloaded_packages\n"
     ]
    },
    {
     "name": "stderr",
     "output_type": "stream",
     "text": [
      "\n",
      "Attaching package: ‘dplyr’\n",
      "\n",
      "\n",
      "The following objects are masked from ‘package:stats’:\n",
      "\n",
      "    filter, lag\n",
      "\n",
      "\n",
      "The following objects are masked from ‘package:base’:\n",
      "\n",
      "    intersect, setdiff, setequal, union\n",
      "\n",
      "\n",
      "Linking to GEOS 3.7.2, GDAL 2.4.2, PROJ 5.2.0\n",
      "\n"
     ]
    }
   ],
   "source": [
    "install.packages(\"leaflet\")\n",
    "library(leaflet)\n",
    "library(dplyr)\n",
    "library(xml2)\n",
    "library(sf)"
   ]
  },
  {
   "cell_type": "code",
   "execution_count": 29,
   "metadata": {},
   "outputs": [],
   "source": [
    "library(htmlwidgets)"
   ]
  },
  {
   "cell_type": "markdown",
   "metadata": {},
   "source": [
    "### shpの読み込み"
   ]
  },
  {
   "cell_type": "code",
   "execution_count": 12,
   "metadata": {},
   "outputs": [],
   "source": [
    "m <- read_sf(\"../kriging/shp/G02-12_5133-jgd_GML/\")"
   ]
  },
  {
   "cell_type": "markdown",
   "metadata": {},
   "source": [
    "### 列名の抽出とsfオブジェクトへの付与"
   ]
  },
  {
   "cell_type": "code",
   "execution_count": 15,
   "metadata": {},
   "outputs": [
    {
     "name": "stderr",
     "output_type": "stream",
     "text": [
      "Warning message in doc_parse_file(con, encoding = encoding, as_html = as_html, options = options):\n",
      "“xmlns:schemaLocation: 'http://nlftp.mlit.go.jp/ksj/schemas/ksj-app KsjAppSchema-G02-v2_1.xsd' is not a valid URI [99]”\n"
     ]
    }
   ],
   "source": [
    "x <- read_xml(\"../kriging/shp/G02-12_5133-jgd_GML/G02-12_5133-jgd.xml\")\n",
    "n <- xml_child(xml_child(x, 4), 1) %>% xml_contents() %>% as_list %>% unlist\n",
    "names(m)[seq_along(n)] <- n"
   ]
  },
  {
   "cell_type": "code",
   "execution_count": 16,
   "metadata": {},
   "outputs": [
    {
     "name": "stderr",
     "output_type": "stream",
     "text": [
      "ERROR while rich displaying an object: Error in loadNamespace(name): there is no package called ‘geojsonio’\n",
      "\n",
      "Traceback:\n",
      "1. FUN(X[[i]], ...)\n",
      "2. tryCatch(withCallingHandlers({\n",
      " .     if (!mime %in% names(repr::mime2repr)) \n",
      " .         stop(\"No repr_* for mimetype \", mime, \" in repr::mime2repr\")\n",
      " .     rpr <- repr::mime2repr[[mime]](obj)\n",
      " .     if (is.null(rpr)) \n",
      " .         return(NULL)\n",
      " .     prepare_content(is.raw(rpr), rpr)\n",
      " . }, error = error_handler), error = outer_handler)\n",
      "3. tryCatchList(expr, classes, parentenv, handlers)\n",
      "4. tryCatchOne(expr, names, parentenv, handlers[[1L]])\n",
      "5. doTryCatch(return(expr), name, parentenv, handler)\n",
      "6. withCallingHandlers({\n",
      " .     if (!mime %in% names(repr::mime2repr)) \n",
      " .         stop(\"No repr_* for mimetype \", mime, \" in repr::mime2repr\")\n",
      " .     rpr <- repr::mime2repr[[mime]](obj)\n",
      " .     if (is.null(rpr)) \n",
      " .         return(NULL)\n",
      " .     prepare_content(is.raw(rpr), rpr)\n",
      " . }, error = error_handler)\n",
      "7. repr::mime2repr[[mime]](obj)\n",
      "8. repr_geojson.sf(obj)\n",
      "9. repr_geojson(geojsonio::geojson_list(obj), ...)\n",
      "10. geojsonio::geojson_list\n",
      "11. getExportedValue(pkg, name)\n",
      "12. asNamespace(ns)\n",
      "13. getNamespace(ns)\n",
      "14. loadNamespace(name)\n",
      "15. withRestarts(stop(cond), retry_loadNamespace = function() NULL)\n",
      "16. withOneRestart(expr, restarts[[1L]])\n",
      "17. doWithOneRestart(return(expr), restart)\n"
     ]
    },
    {
     "data": {
      "text/html": [
       "<table>\n",
       "<caption>A sf: 5 × 6</caption>\n",
       "<thead>\n",
       "\t<tr><th scope=col>3次メッシュコード</th><th scope=col>1月降水量</th><th scope=col>2月降水量</th><th scope=col>3月降水量</th><th scope=col>4月降水量</th><th scope=col>geometry</th></tr>\n",
       "\t<tr><th scope=col>&lt;chr&gt;</th><th scope=col>&lt;dbl&gt;</th><th scope=col>&lt;dbl&gt;</th><th scope=col>&lt;dbl&gt;</th><th scope=col>&lt;dbl&gt;</th><th scope=col>&lt;POLYGON&gt;</th></tr>\n",
       "</thead>\n",
       "<tbody>\n",
       "\t<tr><td>51330000</td><td>581</td><td>708</td><td>1079</td><td>1240</td><td>POLYGON ((133 34, 133 34.00...</td></tr>\n",
       "\t<tr><td>51330001</td><td>613</td><td>712</td><td>1067</td><td>1238</td><td>POLYGON ((133.0125 34, 133....</td></tr>\n",
       "\t<tr><td>51330002</td><td>596</td><td>699</td><td>1056</td><td>1193</td><td>POLYGON ((133.025 34, 133.0...</td></tr>\n",
       "\t<tr><td>51330003</td><td>589</td><td>690</td><td>1045</td><td>1152</td><td>POLYGON ((133.0375 34, 133....</td></tr>\n",
       "\t<tr><td>51330004</td><td>598</td><td>686</td><td>1033</td><td>1131</td><td>POLYGON ((133.05 34, 133.05...</td></tr>\n",
       "</tbody>\n",
       "</table>\n"
      ],
      "text/latex": [
       "A sf: 5 × 6\n",
       "\\begin{tabular}{llllll}\n",
       " 3次メッシュコード & 1月降水量 & 2月降水量 & 3月降水量 & 4月降水量 & geometry\\\\\n",
       " <chr> & <dbl> & <dbl> & <dbl> & <dbl> & <POLYGON>\\\\\n",
       "\\hline\n",
       "\t 51330000 & 581 & 708 & 1079 & 1240 & POLYGON ((133 34, 133 34.00...\\\\\n",
       "\t 51330001 & 613 & 712 & 1067 & 1238 & POLYGON ((133.0125 34, 133....\\\\\n",
       "\t 51330002 & 596 & 699 & 1056 & 1193 & POLYGON ((133.025 34, 133.0...\\\\\n",
       "\t 51330003 & 589 & 690 & 1045 & 1152 & POLYGON ((133.0375 34, 133....\\\\\n",
       "\t 51330004 & 598 & 686 & 1033 & 1131 & POLYGON ((133.05 34, 133.05...\\\\\n",
       "\\end{tabular}\n"
      ],
      "text/markdown": [
       "\n",
       "A sf: 5 × 6\n",
       "\n",
       "| 3次メッシュコード &lt;chr&gt; | 1月降水量 &lt;dbl&gt; | 2月降水量 &lt;dbl&gt; | 3月降水量 &lt;dbl&gt; | 4月降水量 &lt;dbl&gt; | geometry &lt;POLYGON&gt; |\n",
       "|---|---|---|---|---|---|\n",
       "| 51330000 | 581 | 708 | 1079 | 1240 | POLYGON ((133 34, 133 34.00... |\n",
       "| 51330001 | 613 | 712 | 1067 | 1238 | POLYGON ((133.0125 34, 133.... |\n",
       "| 51330002 | 596 | 699 | 1056 | 1193 | POLYGON ((133.025 34, 133.0... |\n",
       "| 51330003 | 589 | 690 | 1045 | 1152 | POLYGON ((133.0375 34, 133.... |\n",
       "| 51330004 | 598 | 686 | 1033 | 1131 | POLYGON ((133.05 34, 133.05... |\n",
       "\n"
      ],
      "text/plain": [
       "  3次メッシュコード 1月降水量 2月降水量 3月降水量 4月降水量\n",
       "1 51330000          581       708       1079      1240     \n",
       "2 51330001          613       712       1067      1238     \n",
       "3 51330002          596       699       1056      1193     \n",
       "4 51330003          589       690       1045      1152     \n",
       "5 51330004          598       686       1033      1131     \n",
       "  geometry                      \n",
       "1 POLYGON ((133 34, 133 34.00...\n",
       "2 POLYGON ((133.0125 34, 133....\n",
       "3 POLYGON ((133.025 34, 133.0...\n",
       "4 POLYGON ((133.0375 34, 133....\n",
       "5 POLYGON ((133.05 34, 133.05..."
      ]
     },
     "metadata": {},
     "output_type": "display_data"
    }
   ],
   "source": [
    "m[1:5, 1:5]"
   ]
  },
  {
   "cell_type": "markdown",
   "metadata": {},
   "source": [
    "なお、平年値メッシュデータの属性値のうち、降水量、気温、日照時間、全天日射量は、おそらく整数型で格納する都合から0.1単位の値になっている(=値が10倍されている)。そこで、これらは1/10の値に変換しておく。"
   ]
  },
  {
   "cell_type": "code",
   "execution_count": 18,
   "metadata": {},
   "outputs": [],
   "source": [
    "m <- m %>%\n",
    "  mutate_if(grepl(pattern = \"(降水量|気温|日照時間|全天日射量)\", names(.)), function(x) x*.1)"
   ]
  },
  {
   "cell_type": "code",
   "execution_count": 23,
   "metadata": {},
   "outputs": [
    {
     "name": "stderr",
     "output_type": "stream",
     "text": [
      "ERROR while rich displaying an object: Error in loadNamespace(name): there is no package called ‘geojsonio’\n",
      "\n",
      "Traceback:\n",
      "1. FUN(X[[i]], ...)\n",
      "2. tryCatch(withCallingHandlers({\n",
      " .     if (!mime %in% names(repr::mime2repr)) \n",
      " .         stop(\"No repr_* for mimetype \", mime, \" in repr::mime2repr\")\n",
      " .     rpr <- repr::mime2repr[[mime]](obj)\n",
      " .     if (is.null(rpr)) \n",
      " .         return(NULL)\n",
      " .     prepare_content(is.raw(rpr), rpr)\n",
      " . }, error = error_handler), error = outer_handler)\n",
      "3. tryCatchList(expr, classes, parentenv, handlers)\n",
      "4. tryCatchOne(expr, names, parentenv, handlers[[1L]])\n",
      "5. doTryCatch(return(expr), name, parentenv, handler)\n",
      "6. withCallingHandlers({\n",
      " .     if (!mime %in% names(repr::mime2repr)) \n",
      " .         stop(\"No repr_* for mimetype \", mime, \" in repr::mime2repr\")\n",
      " .     rpr <- repr::mime2repr[[mime]](obj)\n",
      " .     if (is.null(rpr)) \n",
      " .         return(NULL)\n",
      " .     prepare_content(is.raw(rpr), rpr)\n",
      " . }, error = error_handler)\n",
      "7. repr::mime2repr[[mime]](obj)\n",
      "8. repr_geojson.sf(obj)\n",
      "9. repr_geojson(geojsonio::geojson_list(obj), ...)\n",
      "10. geojsonio::geojson_list\n",
      "11. getExportedValue(pkg, name)\n",
      "12. asNamespace(ns)\n",
      "13. getNamespace(ns)\n",
      "14. loadNamespace(name)\n",
      "15. withRestarts(stop(cond), retry_loadNamespace = function() NULL)\n",
      "16. withOneRestart(expr, restarts[[1L]])\n",
      "17. doWithOneRestart(return(expr), restart)\n"
     ]
    },
    {
     "data": {
      "text/html": [
       "<table>\n",
       "<caption>A sf: 5 × 6</caption>\n",
       "<thead>\n",
       "\t<tr><th scope=col>3次メッシュコード</th><th scope=col>1月降水量</th><th scope=col>2月降水量</th><th scope=col>3月降水量</th><th scope=col>4月降水量</th><th scope=col>geometry</th></tr>\n",
       "\t<tr><th scope=col>&lt;chr&gt;</th><th scope=col>&lt;dbl&gt;</th><th scope=col>&lt;dbl&gt;</th><th scope=col>&lt;dbl&gt;</th><th scope=col>&lt;dbl&gt;</th><th scope=col>&lt;POLYGON&gt;</th></tr>\n",
       "</thead>\n",
       "<tbody>\n",
       "\t<tr><td>51330000</td><td>58.1</td><td>70.8</td><td>107.9</td><td>124.0</td><td>POLYGON ((133 34, 133 34.00...</td></tr>\n",
       "\t<tr><td>51330001</td><td>61.3</td><td>71.2</td><td>106.7</td><td>123.8</td><td>POLYGON ((133.0125 34, 133....</td></tr>\n",
       "\t<tr><td>51330002</td><td>59.6</td><td>69.9</td><td>105.6</td><td>119.3</td><td>POLYGON ((133.025 34, 133.0...</td></tr>\n",
       "\t<tr><td>51330003</td><td>58.9</td><td>69.0</td><td>104.5</td><td>115.2</td><td>POLYGON ((133.0375 34, 133....</td></tr>\n",
       "\t<tr><td>51330004</td><td>59.8</td><td>68.6</td><td>103.3</td><td>113.1</td><td>POLYGON ((133.05 34, 133.05...</td></tr>\n",
       "</tbody>\n",
       "</table>\n"
      ],
      "text/latex": [
       "A sf: 5 × 6\n",
       "\\begin{tabular}{llllll}\n",
       " 3次メッシュコード & 1月降水量 & 2月降水量 & 3月降水量 & 4月降水量 & geometry\\\\\n",
       " <chr> & <dbl> & <dbl> & <dbl> & <dbl> & <POLYGON>\\\\\n",
       "\\hline\n",
       "\t 51330000 & 58.1 & 70.8 & 107.9 & 124.0 & POLYGON ((133 34, 133 34.00...\\\\\n",
       "\t 51330001 & 61.3 & 71.2 & 106.7 & 123.8 & POLYGON ((133.0125 34, 133....\\\\\n",
       "\t 51330002 & 59.6 & 69.9 & 105.6 & 119.3 & POLYGON ((133.025 34, 133.0...\\\\\n",
       "\t 51330003 & 58.9 & 69.0 & 104.5 & 115.2 & POLYGON ((133.0375 34, 133....\\\\\n",
       "\t 51330004 & 59.8 & 68.6 & 103.3 & 113.1 & POLYGON ((133.05 34, 133.05...\\\\\n",
       "\\end{tabular}\n"
      ],
      "text/markdown": [
       "\n",
       "A sf: 5 × 6\n",
       "\n",
       "| 3次メッシュコード &lt;chr&gt; | 1月降水量 &lt;dbl&gt; | 2月降水量 &lt;dbl&gt; | 3月降水量 &lt;dbl&gt; | 4月降水量 &lt;dbl&gt; | geometry &lt;POLYGON&gt; |\n",
       "|---|---|---|---|---|---|\n",
       "| 51330000 | 58.1 | 70.8 | 107.9 | 124.0 | POLYGON ((133 34, 133 34.00... |\n",
       "| 51330001 | 61.3 | 71.2 | 106.7 | 123.8 | POLYGON ((133.0125 34, 133.... |\n",
       "| 51330002 | 59.6 | 69.9 | 105.6 | 119.3 | POLYGON ((133.025 34, 133.0... |\n",
       "| 51330003 | 58.9 | 69.0 | 104.5 | 115.2 | POLYGON ((133.0375 34, 133.... |\n",
       "| 51330004 | 59.8 | 68.6 | 103.3 | 113.1 | POLYGON ((133.05 34, 133.05... |\n",
       "\n"
      ],
      "text/plain": [
       "  3次メッシュコード 1月降水量 2月降水量 3月降水量 4月降水量\n",
       "1 51330000          58.1      70.8      107.9     124.0    \n",
       "2 51330001          61.3      71.2      106.7     123.8    \n",
       "3 51330002          59.6      69.9      105.6     119.3    \n",
       "4 51330003          58.9      69.0      104.5     115.2    \n",
       "5 51330004          59.8      68.6      103.3     113.1    \n",
       "  geometry                      \n",
       "1 POLYGON ((133 34, 133 34.00...\n",
       "2 POLYGON ((133.0125 34, 133....\n",
       "3 POLYGON ((133.025 34, 133.0...\n",
       "4 POLYGON ((133.0375 34, 133....\n",
       "5 POLYGON ((133.05 34, 133.05..."
      ]
     },
     "metadata": {},
     "output_type": "display_data"
    }
   ],
   "source": [
    "m[1:5, 1:5]"
   ]
  },
  {
   "cell_type": "markdown",
   "metadata": {},
   "source": [
    "### 地図の描画"
   ]
  },
  {
   "cell_type": "code",
   "execution_count": 25,
   "metadata": {},
   "outputs": [],
   "source": [
    "target <- \"8月最高気温\"\n",
    "\n",
    "## カラーパレット定義\n",
    "pal <- colorNumeric(palette = \"viridis\", domain = m[[target]])\n",
    "\n",
    "map <-leaflet() %>%\n",
    "  addProviderTiles(providers$CartoDB) %>% \n",
    "  addPolygons(\n",
    "    data = m, \n",
    "    color = ~pal(m[[target]]), \n",
    "    stroke = FALSE,\n",
    "    label = as.character(m[[target]])\n",
    "  ) %>% \n",
    "  addLegend(pal = pal, values = m[[target]], title = target)\n",
    "\n"
   ]
  },
  {
   "cell_type": "code",
   "execution_count": 27,
   "metadata": {},
   "outputs": [
    {
     "ename": "ERROR",
     "evalue": "Error in xy.coords(x, y, xlabel, ylabel, log): 'x' is a list, but does not have components 'x' and 'y'\n",
     "output_type": "error",
     "traceback": [
      "Error in xy.coords(x, y, xlabel, ylabel, log): 'x' is a list, but does not have components 'x' and 'y'\nTraceback:\n",
      "1. plot(map)",
      "2. plot.default(map)",
      "3. xy.coords(x, y, xlabel, ylabel, log)",
      "4. stop(\"'x' is a list, but does not have components 'x' and 'y'\")"
     ]
    }
   ],
   "source": [
    "plot(map)"
   ]
  },
  {
   "cell_type": "code",
   "execution_count": 31,
   "metadata": {},
   "outputs": [],
   "source": [
    "saveWidget(map, file=\"m.html\")"
   ]
  },
  {
   "cell_type": "code",
   "execution_count": null,
   "metadata": {},
   "outputs": [],
   "source": []
  }
 ],
 "metadata": {
  "kernelspec": {
   "display_name": "R",
   "language": "R",
   "name": "ir"
  },
  "language_info": {
   "codemirror_mode": "r",
   "file_extension": ".r",
   "mimetype": "text/x-r-source",
   "name": "R",
   "pygments_lexer": "r",
   "version": "3.6.1"
  }
 },
 "nbformat": 4,
 "nbformat_minor": 4
}
