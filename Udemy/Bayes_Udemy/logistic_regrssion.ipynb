{
 "cells": [
  {
   "cell_type": "code",
   "execution_count": 1,
   "metadata": {},
   "outputs": [],
   "source": [
    "import pandas as pd\n",
    "import matplotlib.pyplot as plt\n",
    "import numpy as np\n",
    "import pystan\n",
    "from scipy.stats import mstats\n",
    "%matplotlib inline"
   ]
  },
  {
   "cell_type": "code",
   "execution_count": 2,
   "metadata": {},
   "outputs": [],
   "source": [
    "plt.style.use(\"ggplot\")"
   ]
  },
  {
   "cell_type": "code",
   "execution_count": 3,
   "metadata": {},
   "outputs": [],
   "source": [
    "df = pd.read_excel(\"./data/dose_response.xlsx\")"
   ]
  },
  {
   "cell_type": "code",
   "execution_count": 4,
   "metadata": {},
   "outputs": [
    {
     "data": {
      "text/html": [
       "<div>\n",
       "<style scoped>\n",
       "    .dataframe tbody tr th:only-of-type {\n",
       "        vertical-align: middle;\n",
       "    }\n",
       "\n",
       "    .dataframe tbody tr th {\n",
       "        vertical-align: top;\n",
       "    }\n",
       "\n",
       "    .dataframe thead th {\n",
       "        text-align: right;\n",
       "    }\n",
       "</style>\n",
       "<table border=\"1\" class=\"dataframe\">\n",
       "  <thead>\n",
       "    <tr style=\"text-align: right;\">\n",
       "      <th></th>\n",
       "      <th>log10 C</th>\n",
       "      <th>death</th>\n",
       "    </tr>\n",
       "  </thead>\n",
       "  <tbody>\n",
       "    <tr>\n",
       "      <td>0</td>\n",
       "      <td>0.95</td>\n",
       "      <td>0</td>\n",
       "    </tr>\n",
       "    <tr>\n",
       "      <td>1</td>\n",
       "      <td>0.94</td>\n",
       "      <td>0</td>\n",
       "    </tr>\n",
       "    <tr>\n",
       "      <td>2</td>\n",
       "      <td>0.95</td>\n",
       "      <td>0</td>\n",
       "    </tr>\n",
       "    <tr>\n",
       "      <td>3</td>\n",
       "      <td>0.96</td>\n",
       "      <td>0</td>\n",
       "    </tr>\n",
       "    <tr>\n",
       "      <td>4</td>\n",
       "      <td>0.99</td>\n",
       "      <td>0</td>\n",
       "    </tr>\n",
       "  </tbody>\n",
       "</table>\n",
       "</div>"
      ],
      "text/plain": [
       "   log10 C  death\n",
       "0     0.95      0\n",
       "1     0.94      0\n",
       "2     0.95      0\n",
       "3     0.96      0\n",
       "4     0.99      0"
      ]
     },
     "execution_count": 4,
     "metadata": {},
     "output_type": "execute_result"
    }
   ],
   "source": [
    "df.head()"
   ]
  },
  {
   "cell_type": "code",
   "execution_count": 5,
   "metadata": {},
   "outputs": [
    {
     "data": {
      "text/plain": [
       "<matplotlib.collections.PathCollection at 0x1a1fd47898>"
      ]
     },
     "execution_count": 5,
     "metadata": {},
     "output_type": "execute_result"
    },
    {
     "data": {
      "image/png": "[encoded data removed]",
      "text/plain": [
       "<Figure size 432x288 with 1 Axes>"
      ]
     },
     "metadata": {},
     "output_type": "display_data"
    }
   ],
   "source": [
    "plt.scatter(df[\"log10 C\"], df[\"death\"])"
   ]
  },
  {
   "cell_type": "code",
   "execution_count": 6,
   "metadata": {},
   "outputs": [],
   "source": [
    "stan_model=\"\"\"\n",
    "data{\n",
    "    int N;\n",
    "    real X[N];\n",
    "    int<lower=0, upper=1> Y[N];\n",
    "}\n",
    "\n",
    "parameters{\n",
    "    real a;\n",
    "    real b;\n",
    "}\n",
    "\n",
    "model{\n",
    "    for (n in  1:N){\n",
    "        Y[n]~bernoulli_logit(a*X[n]+b);\n",
    "    }\n",
    "\n",
    "}\n",
    "\"\"\""
   ]
  },
  {
   "cell_type": "code",
   "execution_count": 7,
   "metadata": {},
   "outputs": [
    {
     "name": "stderr",
     "output_type": "stream",
     "text": [
      "INFO:pystan:COMPILING THE C++ CODE FOR MODEL anon_model_9bc4d3b56636996c90093c8563247849 NOW.\n"
     ]
    }
   ],
   "source": [
    "sm=pystan.StanModel(model_code=stan_model)"
   ]
  },
  {
   "cell_type": "code",
   "execution_count": 9,
   "metadata": {},
   "outputs": [],
   "source": [
    "stan_data={\"N\":df.shape[0], \"X\":df[\"log10 C\"], \"Y\":df[\"death\"]}"
   ]
  },
  {
   "cell_type": "code",
   "execution_count": 11,
   "metadata": {},
   "outputs": [],
   "source": [
    "fit=sm.sampling(data=stan_data, iter=2000, chains=3, seed=123)"
   ]
  },
  {
   "cell_type": "code",
   "execution_count": 12,
   "metadata": {},
   "outputs": [
    {
     "data": {
      "text/plain": [
       "Inference for Stan model: anon_model_9bc4d3b56636996c90093c8563247849.\n",
       "3 chains, each with iter=2000; warmup=1000; thin=1; \n",
       "post-warmup draws per chain=1000, total post-warmup draws=3000.\n",
       "\n",
       "       mean se_mean     sd   2.5%    25%    50%    75%  97.5%  n_eff   Rhat\n",
       "a     13.47    0.18   3.54   7.31  11.05  13.18  15.56  21.72    368   1.01\n",
       "b    -20.09    0.28   5.35 -32.54 -23.31 -19.65 -16.43 -10.82    368   1.01\n",
       "lp__ -14.96    0.05   1.12  -18.0  -15.4 -14.61 -14.18 -13.89    508   1.01\n",
       "\n",
       "Samples were drawn using NUTS at Thu Oct 10 11:36:10 2019.\n",
       "For each parameter, n_eff is a crude measure of effective sample size,\n",
       "and Rhat is the potential scale reduction factor on split chains (at \n",
       "convergence, Rhat=1)."
      ]
     },
     "execution_count": 12,
     "metadata": {},
     "output_type": "execute_result"
    }
   ],
   "source": [
    "fit"
   ]
  },
  {
   "cell_type": "code",
   "execution_count": 13,
   "metadata": {},
   "outputs": [],
   "source": [
    "a, b=13.47, -20.09"
   ]
  },
  {
   "cell_type": "code",
   "execution_count": 14,
   "metadata": {},
   "outputs": [
    {
     "name": "stderr",
     "output_type": "stream",
     "text": [
      "WARNING:pystan:Deprecation warning. In future, use ArviZ library (`pip install arviz`)\n"
     ]
    },
    {
     "data": {
      "image/png": "[encoded data removed]",
      "text/plain": [
       "<Figure size 432x288 with 4 Axes>"
      ]
     },
     "metadata": {},
     "output_type": "display_data"
    }
   ],
   "source": [
    "fig=fit.plot()"
   ]
  },
  {
   "cell_type": "code",
   "execution_count": 15,
   "metadata": {},
   "outputs": [],
   "source": [
    "ms_a=fit.extract(\"a\")[\"a\"]\n",
    "ms_b=fit.extract(\"b\")[\"b\"]"
   ]
  },
  {
   "cell_type": "code",
   "execution_count": 18,
   "metadata": {},
   "outputs": [],
   "source": [
    "x=np.arange(1, 2, 0.01)\n",
    "\n",
    "f=lambda x: 1.0/(1.0+np.exp(-x))\n",
    "df_b=pd.DataFrame([])\n",
    "for i in range(x.shape[0]):\n",
    "    df_b[i]=f(ms_a*x[i]+ms_b)"
   ]
  },
  {
   "cell_type": "code",
   "execution_count": 19,
   "metadata": {},
   "outputs": [
    {
     "data": {
      "text/html": [
       "<div>\n",
       "<style scoped>\n",
       "    .dataframe tbody tr th:only-of-type {\n",
       "        vertical-align: middle;\n",
       "    }\n",
       "\n",
       "    .dataframe tbody tr th {\n",
       "        vertical-align: top;\n",
       "    }\n",
       "\n",
       "    .dataframe thead th {\n",
       "        text-align: right;\n",
       "    }\n",
       "</style>\n",
       "<table border=\"1\" class=\"dataframe\">\n",
       "  <thead>\n",
       "    <tr style=\"text-align: right;\">\n",
       "      <th></th>\n",
       "      <th>0</th>\n",
       "      <th>1</th>\n",
       "      <th>2</th>\n",
       "      <th>3</th>\n",
       "      <th>4</th>\n",
       "      <th>5</th>\n",
       "      <th>6</th>\n",
       "      <th>7</th>\n",
       "      <th>8</th>\n",
       "      <th>9</th>\n",
       "      <th>...</th>\n",
       "      <th>90</th>\n",
       "      <th>91</th>\n",
       "      <th>92</th>\n",
       "      <th>93</th>\n",
       "      <th>94</th>\n",
       "      <th>95</th>\n",
       "      <th>96</th>\n",
       "      <th>97</th>\n",
       "      <th>98</th>\n",
       "      <th>99</th>\n",
       "    </tr>\n",
       "  </thead>\n",
       "  <tbody>\n",
       "    <tr>\n",
       "      <td>0</td>\n",
       "      <td>0.012349</td>\n",
       "      <td>0.013590</td>\n",
       "      <td>0.014955</td>\n",
       "      <td>0.016454</td>\n",
       "      <td>0.018101</td>\n",
       "      <td>0.019909</td>\n",
       "      <td>0.021894</td>\n",
       "      <td>0.024072</td>\n",
       "      <td>0.026461</td>\n",
       "      <td>0.029079</td>\n",
       "      <td>...</td>\n",
       "      <td>0.987306</td>\n",
       "      <td>0.988467</td>\n",
       "      <td>0.989522</td>\n",
       "      <td>0.990482</td>\n",
       "      <td>0.991355</td>\n",
       "      <td>0.992149</td>\n",
       "      <td>0.992870</td>\n",
       "      <td>0.993525</td>\n",
       "      <td>0.994120</td>\n",
       "      <td>0.994661</td>\n",
       "    </tr>\n",
       "    <tr>\n",
       "      <td>1</td>\n",
       "      <td>0.004144</td>\n",
       "      <td>0.004609</td>\n",
       "      <td>0.005125</td>\n",
       "      <td>0.005699</td>\n",
       "      <td>0.006336</td>\n",
       "      <td>0.007045</td>\n",
       "      <td>0.007832</td>\n",
       "      <td>0.008706</td>\n",
       "      <td>0.009677</td>\n",
       "      <td>0.010755</td>\n",
       "      <td>...</td>\n",
       "      <td>0.984027</td>\n",
       "      <td>0.985621</td>\n",
       "      <td>0.987057</td>\n",
       "      <td>0.988352</td>\n",
       "      <td>0.989518</td>\n",
       "      <td>0.990569</td>\n",
       "      <td>0.991515</td>\n",
       "      <td>0.992367</td>\n",
       "      <td>0.993134</td>\n",
       "      <td>0.993825</td>\n",
       "    </tr>\n",
       "    <tr>\n",
       "      <td>2</td>\n",
       "      <td>0.000306</td>\n",
       "      <td>0.000360</td>\n",
       "      <td>0.000424</td>\n",
       "      <td>0.000499</td>\n",
       "      <td>0.000588</td>\n",
       "      <td>0.000692</td>\n",
       "      <td>0.000815</td>\n",
       "      <td>0.000960</td>\n",
       "      <td>0.001130</td>\n",
       "      <td>0.001331</td>\n",
       "      <td>...</td>\n",
       "      <td>0.998682</td>\n",
       "      <td>0.998881</td>\n",
       "      <td>0.999049</td>\n",
       "      <td>0.999193</td>\n",
       "      <td>0.999315</td>\n",
       "      <td>0.999418</td>\n",
       "      <td>0.999506</td>\n",
       "      <td>0.999580</td>\n",
       "      <td>0.999644</td>\n",
       "      <td>0.999697</td>\n",
       "    </tr>\n",
       "    <tr>\n",
       "      <td>3</td>\n",
       "      <td>0.000042</td>\n",
       "      <td>0.000051</td>\n",
       "      <td>0.000063</td>\n",
       "      <td>0.000078</td>\n",
       "      <td>0.000096</td>\n",
       "      <td>0.000118</td>\n",
       "      <td>0.000145</td>\n",
       "      <td>0.000179</td>\n",
       "      <td>0.000220</td>\n",
       "      <td>0.000272</td>\n",
       "      <td>...</td>\n",
       "      <td>0.999828</td>\n",
       "      <td>0.999861</td>\n",
       "      <td>0.999887</td>\n",
       "      <td>0.999908</td>\n",
       "      <td>0.999925</td>\n",
       "      <td>0.999939</td>\n",
       "      <td>0.999951</td>\n",
       "      <td>0.999960</td>\n",
       "      <td>0.999968</td>\n",
       "      <td>0.999974</td>\n",
       "    </tr>\n",
       "    <tr>\n",
       "      <td>4</td>\n",
       "      <td>0.001501</td>\n",
       "      <td>0.001704</td>\n",
       "      <td>0.001935</td>\n",
       "      <td>0.002198</td>\n",
       "      <td>0.002496</td>\n",
       "      <td>0.002834</td>\n",
       "      <td>0.003217</td>\n",
       "      <td>0.003653</td>\n",
       "      <td>0.004147</td>\n",
       "      <td>0.004708</td>\n",
       "      <td>...</td>\n",
       "      <td>0.993063</td>\n",
       "      <td>0.993888</td>\n",
       "      <td>0.994615</td>\n",
       "      <td>0.995256</td>\n",
       "      <td>0.995821</td>\n",
       "      <td>0.996319</td>\n",
       "      <td>0.996758</td>\n",
       "      <td>0.997144</td>\n",
       "      <td>0.997485</td>\n",
       "      <td>0.997785</td>\n",
       "    </tr>\n",
       "    <tr>\n",
       "      <td>...</td>\n",
       "      <td>...</td>\n",
       "      <td>...</td>\n",
       "      <td>...</td>\n",
       "      <td>...</td>\n",
       "      <td>...</td>\n",
       "      <td>...</td>\n",
       "      <td>...</td>\n",
       "      <td>...</td>\n",
       "      <td>...</td>\n",
       "      <td>...</td>\n",
       "      <td>...</td>\n",
       "      <td>...</td>\n",
       "      <td>...</td>\n",
       "      <td>...</td>\n",
       "      <td>...</td>\n",
       "      <td>...</td>\n",
       "      <td>...</td>\n",
       "      <td>...</td>\n",
       "      <td>...</td>\n",
       "      <td>...</td>\n",
       "      <td>...</td>\n",
       "    </tr>\n",
       "    <tr>\n",
       "      <td>2995</td>\n",
       "      <td>0.001188</td>\n",
       "      <td>0.001362</td>\n",
       "      <td>0.001562</td>\n",
       "      <td>0.001791</td>\n",
       "      <td>0.002053</td>\n",
       "      <td>0.002354</td>\n",
       "      <td>0.002699</td>\n",
       "      <td>0.003094</td>\n",
       "      <td>0.003547</td>\n",
       "      <td>0.004065</td>\n",
       "      <td>...</td>\n",
       "      <td>0.996306</td>\n",
       "      <td>0.996777</td>\n",
       "      <td>0.997189</td>\n",
       "      <td>0.997548</td>\n",
       "      <td>0.997861</td>\n",
       "      <td>0.998135</td>\n",
       "      <td>0.998373</td>\n",
       "      <td>0.998581</td>\n",
       "      <td>0.998763</td>\n",
       "      <td>0.998921</td>\n",
       "    </tr>\n",
       "    <tr>\n",
       "      <td>2996</td>\n",
       "      <td>0.000810</td>\n",
       "      <td>0.000946</td>\n",
       "      <td>0.001105</td>\n",
       "      <td>0.001290</td>\n",
       "      <td>0.001506</td>\n",
       "      <td>0.001759</td>\n",
       "      <td>0.002054</td>\n",
       "      <td>0.002398</td>\n",
       "      <td>0.002800</td>\n",
       "      <td>0.003269</td>\n",
       "      <td>...</td>\n",
       "      <td>0.998954</td>\n",
       "      <td>0.999105</td>\n",
       "      <td>0.999233</td>\n",
       "      <td>0.999344</td>\n",
       "      <td>0.999438</td>\n",
       "      <td>0.999519</td>\n",
       "      <td>0.999588</td>\n",
       "      <td>0.999647</td>\n",
       "      <td>0.999698</td>\n",
       "      <td>0.999741</td>\n",
       "    </tr>\n",
       "    <tr>\n",
       "      <td>2997</td>\n",
       "      <td>0.000058</td>\n",
       "      <td>0.000069</td>\n",
       "      <td>0.000083</td>\n",
       "      <td>0.000099</td>\n",
       "      <td>0.000118</td>\n",
       "      <td>0.000141</td>\n",
       "      <td>0.000168</td>\n",
       "      <td>0.000201</td>\n",
       "      <td>0.000240</td>\n",
       "      <td>0.000287</td>\n",
       "      <td>...</td>\n",
       "      <td>0.998101</td>\n",
       "      <td>0.998410</td>\n",
       "      <td>0.998669</td>\n",
       "      <td>0.998886</td>\n",
       "      <td>0.999067</td>\n",
       "      <td>0.999219</td>\n",
       "      <td>0.999346</td>\n",
       "      <td>0.999453</td>\n",
       "      <td>0.999542</td>\n",
       "      <td>0.999617</td>\n",
       "    </tr>\n",
       "    <tr>\n",
       "      <td>2998</td>\n",
       "      <td>0.000179</td>\n",
       "      <td>0.000209</td>\n",
       "      <td>0.000245</td>\n",
       "      <td>0.000287</td>\n",
       "      <td>0.000335</td>\n",
       "      <td>0.000393</td>\n",
       "      <td>0.000459</td>\n",
       "      <td>0.000538</td>\n",
       "      <td>0.000629</td>\n",
       "      <td>0.000736</td>\n",
       "      <td>...</td>\n",
       "      <td>0.996060</td>\n",
       "      <td>0.996631</td>\n",
       "      <td>0.997120</td>\n",
       "      <td>0.997539</td>\n",
       "      <td>0.997896</td>\n",
       "      <td>0.998202</td>\n",
       "      <td>0.998463</td>\n",
       "      <td>0.998687</td>\n",
       "      <td>0.998878</td>\n",
       "      <td>0.999041</td>\n",
       "    </tr>\n",
       "    <tr>\n",
       "      <td>2999</td>\n",
       "      <td>0.060972</td>\n",
       "      <td>0.065275</td>\n",
       "      <td>0.069858</td>\n",
       "      <td>0.074737</td>\n",
       "      <td>0.079928</td>\n",
       "      <td>0.085447</td>\n",
       "      <td>0.091308</td>\n",
       "      <td>0.097529</td>\n",
       "      <td>0.104125</td>\n",
       "      <td>0.111112</td>\n",
       "      <td>...</td>\n",
       "      <td>0.978448</td>\n",
       "      <td>0.979930</td>\n",
       "      <td>0.981313</td>\n",
       "      <td>0.982602</td>\n",
       "      <td>0.983803</td>\n",
       "      <td>0.984923</td>\n",
       "      <td>0.985966</td>\n",
       "      <td>0.986938</td>\n",
       "      <td>0.987844</td>\n",
       "      <td>0.988688</td>\n",
       "    </tr>\n",
       "  </tbody>\n",
       "</table>\n",
       "<p>3000 rows × 100 columns</p>\n",
       "</div>"
      ],
      "text/plain": [
       "            0         1         2         3         4         5         6   \\\n",
       "0     0.012349  0.013590  0.014955  0.016454  0.018101  0.019909  0.021894   \n",
       "1     0.004144  0.004609  0.005125  0.005699  0.006336  0.007045  0.007832   \n",
       "2     0.000306  0.000360  0.000424  0.000499  0.000588  0.000692  0.000815   \n",
       "3     0.000042  0.000051  0.000063  0.000078  0.000096  0.000118  0.000145   \n",
       "4     0.001501  0.001704  0.001935  0.002198  0.002496  0.002834  0.003217   \n",
       "...        ...       ...       ...       ...       ...       ...       ...   \n",
       "2995  0.001188  0.001362  0.001562  0.001791  0.002053  0.002354  0.002699   \n",
       "2996  0.000810  0.000946  0.001105  0.001290  0.001506  0.001759  0.002054   \n",
       "2997  0.000058  0.000069  0.000083  0.000099  0.000118  0.000141  0.000168   \n",
       "2998  0.000179  0.000209  0.000245  0.000287  0.000335  0.000393  0.000459   \n",
       "2999  0.060972  0.065275  0.069858  0.074737  0.079928  0.085447  0.091308   \n",
       "\n",
       "            7         8         9   ...        90        91        92  \\\n",
       "0     0.024072  0.026461  0.029079  ...  0.987306  0.988467  0.989522   \n",
       "1     0.008706  0.009677  0.010755  ...  0.984027  0.985621  0.987057   \n",
       "2     0.000960  0.001130  0.001331  ...  0.998682  0.998881  0.999049   \n",
       "3     0.000179  0.000220  0.000272  ...  0.999828  0.999861  0.999887   \n",
       "4     0.003653  0.004147  0.004708  ...  0.993063  0.993888  0.994615   \n",
       "...        ...       ...       ...  ...       ...       ...       ...   \n",
       "2995  0.003094  0.003547  0.004065  ...  0.996306  0.996777  0.997189   \n",
       "2996  0.002398  0.002800  0.003269  ...  0.998954  0.999105  0.999233   \n",
       "2997  0.000201  0.000240  0.000287  ...  0.998101  0.998410  0.998669   \n",
       "2998  0.000538  0.000629  0.000736  ...  0.996060  0.996631  0.997120   \n",
       "2999  0.097529  0.104125  0.111112  ...  0.978448  0.979930  0.981313   \n",
       "\n",
       "            93        94        95        96        97        98        99  \n",
       "0     0.990482  0.991355  0.992149  0.992870  0.993525  0.994120  0.994661  \n",
       "1     0.988352  0.989518  0.990569  0.991515  0.992367  0.993134  0.993825  \n",
       "2     0.999193  0.999315  0.999418  0.999506  0.999580  0.999644  0.999697  \n",
       "3     0.999908  0.999925  0.999939  0.999951  0.999960  0.999968  0.999974  \n",
       "4     0.995256  0.995821  0.996319  0.996758  0.997144  0.997485  0.997785  \n",
       "...        ...       ...       ...       ...       ...       ...       ...  \n",
       "2995  0.997548  0.997861  0.998135  0.998373  0.998581  0.998763  0.998921  \n",
       "2996  0.999344  0.999438  0.999519  0.999588  0.999647  0.999698  0.999741  \n",
       "2997  0.998886  0.999067  0.999219  0.999346  0.999453  0.999542  0.999617  \n",
       "2998  0.997539  0.997896  0.998202  0.998463  0.998687  0.998878  0.999041  \n",
       "2999  0.982602  0.983803  0.984923  0.985966  0.986938  0.987844  0.988688  \n",
       "\n",
       "[3000 rows x 100 columns]"
      ]
     },
     "execution_count": 19,
     "metadata": {},
     "output_type": "execute_result"
    }
   ],
   "source": [
    "df_b"
   ]
  },
  {
   "cell_type": "code",
   "execution_count": 20,
   "metadata": {},
   "outputs": [],
   "source": [
    "low_y50, high_y50=mstats.mquantiles(df_b, [0.25, 0.75], axis=0)\n",
    "low_y95, high_y95=mstats.mquantiles(df_b, [0.025, 0.975], axis=0)"
   ]
  },
  {
   "cell_type": "code",
   "execution_count": 24,
   "metadata": {},
   "outputs": [
    {
     "data": {
      "text/plain": [
       "[<matplotlib.lines.Line2D at 0x1a20f6be10>]"
      ]
     },
     "execution_count": 24,
     "metadata": {},
     "output_type": "execute_result"
    },
    {
     "data": {
      "image/png": "[encoded data removed]",
      "text/plain": [
       "<Figure size 432x288 with 1 Axes>"
      ]
     },
     "metadata": {},
     "output_type": "display_data"
    }
   ],
   "source": [
    "plt.scatter(df[\"log10 C\"], df[\"death\"])\n",
    "plt.fill_between(x, low_y50, high_y50, alpha=0.6, color=\"darkgray\")\n",
    "plt.fill_between(x, low_y95, high_y95, alpha=0.3, color=\"gray\")\n",
    "plt.plot(x,f(a*x+b))"
   ]
  },
  {
   "cell_type": "code",
   "execution_count": null,
   "metadata": {},
   "outputs": [],
   "source": []
  }
 ],
 "metadata": {
  "kernelspec": {
   "display_name": "Python 3",
   "language": "python",
   "name": "python3"
  },
  "language_info": {
   "codemirror_mode": {
    "name": "ipython",
    "version": 3
   },
   "file_extension": ".py",
   "mimetype": "text/x-python",
   "name": "python",
   "nbconvert_exporter": "python",
   "pygments_lexer": "ipython3",
   "version": "3.7.3"
  }
 },
 "nbformat": 4,
 "nbformat_minor": 2
}
