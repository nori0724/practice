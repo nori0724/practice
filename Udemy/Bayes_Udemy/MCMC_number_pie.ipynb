{
 "cells": [
  {
   "cell_type": "code",
   "execution_count": 8,
   "metadata": {},
   "outputs": [],
   "source": [
    "import pandas as pd\n",
    "import numpy as np\n",
    "import matplotlib.pyplot as plt\n",
    "from IPython.html.widgets import interact\n",
    "%matplotlib inline"
   ]
  },
  {
   "cell_type": "code",
   "execution_count": 9,
   "metadata": {},
   "outputs": [],
   "source": [
    "plt.style.use(\"ggplot\")\n",
    "np.random.seed(123)"
   ]
  },
  {
   "cell_type": "code",
   "execution_count": 10,
   "metadata": {},
   "outputs": [],
   "source": [
    "#正方形1*1\n",
    "#半分を赤、半分を青とする\n",
    "#[0, 1]の一様乱数乱数を発生させ赤に入る確率=赤の面積/(赤の面積+青の面積)=0.5"
   ]
  },
  {
   "cell_type": "code",
   "execution_count": 11,
   "metadata": {},
   "outputs": [],
   "source": [
    "#モンテカルロ法とは乱数を使った数値計算手法\n",
    "#円の中に入る確率(4/pie)/1(全体の面積)=0.785\n",
    "#確率が分かれば、pieが求められる"
   ]
  },
  {
   "cell_type": "code",
   "execution_count": 12,
   "metadata": {},
   "outputs": [
    {
     "name": "stdout",
     "output_type": "stream",
     "text": [
      "0.82\n"
     ]
    }
   ],
   "source": [
    "#乱数を打つ数\n",
    "NMC = 100\n",
    "\n",
    "#[0,1]の乱数を発生させる\n",
    "xmc =np.random.rand(NMC)\n",
    "ymc =np.random.rand(NMC)\n",
    "\n",
    "#原点からの距離\n",
    "r = (xmc**2 + ymc**2)**0.5\n",
    "\n",
    "#入ったかどうかの計算(入ったら1, 入ってなければ0)\n",
    "accept = np.where(r<1, 1, 0)\n",
    "\n",
    "#確率の計算\n",
    "accept_ratio = np.sum(accept) / NMC\n",
    "\n",
    "print(accept_ratio)"
   ]
  },
  {
   "cell_type": "code",
   "execution_count": 13,
   "metadata": {},
   "outputs": [
    {
     "data": {
      "application/vnd.jupyter.widget-view+json": {
       "model_id": "7f311656a9ff404384258125bd83cbf4",
       "version_major": 2,
       "version_minor": 0
      },
      "text/plain": [
       "interactive(children=(IntSlider(value=0, description='mcs', max=1000), Output()), _dom_classes=('widget-intera…"
      ]
     },
     "metadata": {},
     "output_type": "display_data"
    }
   ],
   "source": [
    "#乱数を打つ数\n",
    "NMC = 1000\n",
    "\n",
    "#[0,1]の乱数を発生させる\n",
    "xmc =np.random.rand(NMC)\n",
    "ymc =np.random.rand(NMC)\n",
    "\n",
    "@interact(mcs=(0, NMC, 1))\n",
    "def animation(mcs=0):\n",
    "    plt.figure(figsize=(6, 6))\n",
    "    plt.xlim([0,1])\n",
    "    plt.ylim([0,1])\n",
    "    #円をグラフに描きたい\n",
    "    x=np.arange(0 ,1 ,0.001)\n",
    "    y=(1 - x**2)**0.5 #x^2 + y^2 =1 円の公式より\n",
    "    y2 = np.ones(x.shape[0])\n",
    "    plt.plot(x, y)\n",
    "    \n",
    "    #xの外、中に色を付ける\n",
    "    plt.fill_between(x, y, alpha=0.3)\n",
    "    plt.fill_between(x, y, y2, alpha=0.3)\n",
    "\n",
    "    #原点からの距離\n",
    "    r = (xmc[:mcs]**2 + ymc[:mcs]**2)**0.5\n",
    "\n",
    "    #入ったかどうかの計算(入ったら1, 入ってなければ0)\n",
    "    accept = np.where(r<1, 1, 0)\n",
    "\n",
    "    #確率の計算\n",
    "    accept_ratio = np.sum(accept) / mcs\n",
    "    \n",
    "    plt.scatter(xmc[:mcs], ymc[:mcs], color=\"black\", marker=\".\")\n",
    "    plt.show()\n",
    "    print(\"Monte Carlo : \", accept_ratio)\n",
    "    print(\"Analytics Solution : \", np.pi/4.0)"
   ]
  },
  {
   "cell_type": "code",
   "execution_count": 38,
   "metadata": {},
   "outputs": [],
   "source": [
    "pi_mcs = []\n",
    "\n",
    "#乱数を打つ数\n",
    "NMC = 2000\n",
    "\n",
    "#[0,1]の乱数を発生させる\n",
    "xmc =np.random.rand(NMC)\n",
    "ymc =np.random.rand(NMC)\n",
    "for mcs in range(1, NMC):\n",
    "    r = (xmc[:mcs] **2 + ymc[:mcs] **2)**0.5\n",
    "    accept = np.where(r<1, 1, 0)\n",
    "    accept_ratio = np.sum(accept) / mcs\n",
    "    pi_mcs.append(accept_ratio)"
   ]
  },
  {
   "cell_type": "code",
   "execution_count": 39,
   "metadata": {},
   "outputs": [],
   "source": [
    "pi_x=np.arange(len(pi_mcs))+1"
   ]
  },
  {
   "cell_type": "code",
   "execution_count": 40,
   "metadata": {},
   "outputs": [
    {
     "data": {
      "text/plain": [
       "<matplotlib.collections.LineCollection at 0x1174c5160>"
      ]
     },
     "execution_count": 40,
     "metadata": {},
     "output_type": "execute_result"
    },
    {
     "data": {
      "image/png": "[encoded data removed]",
      "text/plain": [
       "<Figure size 432x288 with 1 Axes>"
      ]
     },
     "metadata": {},
     "output_type": "display_data"
    }
   ],
   "source": [
    "plt.plot(pi_x, pi_mcs)\n",
    "plt.hlines(0.785, pi_x[0], pi_x[-1], linestyles=\"dashed\")"
   ]
  },
  {
   "cell_type": "code",
   "execution_count": null,
   "metadata": {},
   "outputs": [],
   "source": []
  }
 ],
 "metadata": {
  "kernelspec": {
   "display_name": "Python 3",
   "language": "python",
   "name": "python3"
  },
  "language_info": {
   "codemirror_mode": {
    "name": "ipython",
    "version": 3
   },
   "file_extension": ".py",
   "mimetype": "text/x-python",
   "name": "python",
   "nbconvert_exporter": "python",
   "pygments_lexer": "ipython3",
   "version": "3.7.3"
  }
 },
 "nbformat": 4,
 "nbformat_minor": 2
}
