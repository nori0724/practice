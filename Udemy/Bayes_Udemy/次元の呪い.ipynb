{
 "cells": [
  {
   "cell_type": "code",
   "execution_count": 4,
   "metadata": {},
   "outputs": [],
   "source": [
    "import pandas as pd\n",
    "import numpy as np\n",
    "from scipy import optimize as opt\n",
    "from scipy.special import gamma\n",
    "import matplotlib.pyplot as plt"
   ]
  },
  {
   "cell_type": "code",
   "execution_count": 8,
   "metadata": {},
   "outputs": [],
   "source": [
    "plt.style.use(\"ggplot\")\n",
    "np.random.seed(123)\n",
    "\n",
    "accept_dict={}"
   ]
  },
  {
   "cell_type": "code",
   "execution_count": 22,
   "metadata": {},
   "outputs": [
    {
     "name": "stdout",
     "output_type": "stream",
     "text": [
      "Accept ratio :  0.00025\n",
      "Analytics Solution :  0.00032599188692738996\n"
     ]
    }
   ],
   "source": [
    "NMCS=40000\n",
    "Ndim=12\n",
    "accept=0\n",
    "for i in range(NMCS):\n",
    "    x=2*np.random.rand(Ndim)-1.0\n",
    "    r=(np.sum(x**2))**0.5\n",
    "    if r<=1:\n",
    "        accept+=1\n",
    "\n",
    "accept_ratio=accept/NMCS\n",
    "analytical=np.pi**(Ndim/2.0) / (2**Ndim * gamma(Ndim/2+1))\n",
    "print(\"Accept ratio : \", accept_ratio)\n",
    "print(\"Analytics Solution : \", analytical)\n",
    "accept_dict.update({Ndim:accept_ratio / analytical})"
   ]
  },
  {
   "cell_type": "code",
   "execution_count": 24,
   "metadata": {},
   "outputs": [],
   "source": [
    "df=pd.DataFrame.from_dict(accept_dict, orient=\"index\")"
   ]
  },
  {
   "cell_type": "code",
   "execution_count": 27,
   "metadata": {},
   "outputs": [
    {
     "data": {
      "text/plain": [
       "Text(0, 0.5, 'ratio[-]')"
      ]
     },
     "execution_count": 27,
     "metadata": {},
     "output_type": "execute_result"
    },
    {
     "data": {
      "image/png": "[encoded data removed]",
      "text/plain": [
       "<Figure size 432x288 with 1 Axes>"
      ]
     },
     "metadata": {},
     "output_type": "display_data"
    }
   ],
   "source": [
    "plt.scatter(df.index, df[0])\n",
    "plt.xlabel(\"demention\")\n",
    "plt.ylabel(\"ratio[-]\")"
   ]
  },
  {
   "cell_type": "code",
   "execution_count": null,
   "metadata": {},
   "outputs": [],
   "source": []
  }
 ],
 "metadata": {
  "kernelspec": {
   "display_name": "Python 3",
   "language": "python",
   "name": "python3"
  },
  "language_info": {
   "codemirror_mode": {
    "name": "ipython",
    "version": 3
   },
   "file_extension": ".py",
   "mimetype": "text/x-python",
   "name": "python",
   "nbconvert_exporter": "python",
   "pygments_lexer": "ipython3",
   "version": "3.7.3"
  }
 },
 "nbformat": 4,
 "nbformat_minor": 2
}
